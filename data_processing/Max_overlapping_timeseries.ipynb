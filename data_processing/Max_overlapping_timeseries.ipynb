{
 "cells": [
  {
   "cell_type": "markdown",
   "metadata": {
    "id": "BWnFDYTbJSoO"
   },
   "source": [
    "\n",
    "# Max overlapping timeseries algorithm\n",
    "\n",
    "This algorithm has been designed to find the number of timeseries which has a minimum number of samples at the begining of each timeseries. \n",
    "\n",
    "For example, let's assume that we have timeseries produced by some type of meter with some periodic values. The start and end date of the series can be different for each file. To generate a set to apply a forecasting model using different input variables, we need to obtain a set of overlapping timeseries with a minimal duration to make sure the ML algorithm will capture the periodicity of the samples. The periods will depend on the type of problem we are studying. \n",
    "\n",
    "The proposed algorithm allows to know, for each date on, how many overlapping days of timeseries we have available. \n",
    "\n",
    "Let's assume that we have N meters which generates N files, each one including a timeseries with starts with a `start date` and finishes with an `end date`.\n",
    "\n",
    "We must generate a dataframe containing:\n",
    "\n",
    "|  `Start date` | `Timeseries ID` | `Duration of timeseries in days` = `End date` - `Start date` |\n",
    "\n",
    "For example:\n",
    "\n",
    "```\n",
    "#Start date, meter ID, Duration in days\n",
    "2019-06-02T09:37:00.000Z, vgbiwenoi2323, 367\n",
    "2019-06-05T09:37:00.000Z, dscafweee3498, 450\n",
    "2019-06-06T09:37:00.000Z, cncinnenr7325, 348\n",
    "2019-06-09T09:37:00.000Z, onjdqweni8623, 317\n",
    "2019-06-10T09:37:00.000Z, eiwhdoqwu3764, 347\n",
    "2019-06-11T09:37:00.000Z, lidscbnqo1387, 227\n",
    "2019-06-13T09:37:00.000Z, vgbiweeef2424, 367\n",
    "2019-06-13T09:37:00.000Z, ebnqiunin1298, 387\n",
    "2019-06-18T09:37:00.000Z, ommfiunun3546, 357\n",
    "2019-06-21T09:37:00.000Z, tyrfeunht6543, 398\n",
    "```\n",
    "\n"
   ]
  },
  {
   "cell_type": "code",
   "execution_count": 1,
   "metadata": {},
   "outputs": [],
   "source": [
    "import pandas as pd\n",
    "# Display all the columns\n",
    "pd.set_option('display.max_columns', None)\n",
    "pd.set_option('display.max_rows', 40)"
   ]
  },
  {
   "cell_type": "code",
   "execution_count": 4,
   "metadata": {
    "colab": {
     "base_uri": "https://localhost:8080/"
    },
    "id": "TqBZiRYXJLF1",
    "outputId": "8b386281-163a-4fc8-e733-dc2a08fc4746"
   },
   "outputs": [],
   "source": [
    "def run_algorithm(input_csv_filename, min_period):\n",
    "    timeseries_df= pd.read_csv(input_csv_filename)\n",
    "    timeseries_df['start'] = pd.to_datetime(timeseries_df['start'])\n",
    "\n",
    "    # The dataframe must be ordered by increasing date\n",
    "    timeseries_df=timeseries_df.sort_values(by=\"start\")\n",
    "    # We remove the index to make sure the loop follow the rows ordered by increasing date\n",
    "    timeseries_df=timeseries_df.reset_index(drop=True)\n",
    "\n",
    "    # We calculate the delta between rows and leave it in a column as integers\n",
    "    timeseries_df['delta']= timeseries_df['start'].diff()\n",
    "    timeseries_df.iloc[0, timeseries_df.columns.get_loc('delta')] = pd.Timedelta('0 days')\n",
    "    timeseries_df['delta'] = timeseries_df['delta'].dt.days.astype('int64')\n",
    "\n",
    "    # This new column stores  number of complete periods in the rows processed until the \n",
    "    # date of the current iteration\n",
    "    timeseries_df['complete_periods']=0\n",
    "    # this column stores the remaing days when the max of complete periods is reached \n",
    "    timeseries_df['duration_at_max']=0\n",
    "\n",
    "    # Iterate all the rows to find the max value for complete_periods\n",
    "    # Skipping first iteration\n",
    "    \n",
    "    max_complete_periods=0\n",
    "    max_complete_periods_date=''\n",
    "    for i in range(1,len(timeseries_df)) :\n",
    "        #print('Iteration: ' + str(i))\n",
    "        #timeseries_df.loc[0:i-1,'duration']=timeseries_df.loc[0:i-1,'duration']-timeseries_df.loc[i,'delta']\n",
    "        timeseries_df.loc[0:i-1,'duration']-=timeseries_df.loc[i,'delta']\n",
    "        timeseries_df.loc[i,'complete_periods'] = (timeseries_df.loc[0:i,'duration']>=min_period).sum()\n",
    "        if (timeseries_df.loc[i,'complete_periods']>max_complete_periods):\n",
    "            max_complete_periods=timeseries_df.loc[i,'complete_periods']\n",
    "            max_complete_periods_date=timeseries_df.loc[i,'start']\n",
    "            timeseries_df['duration_at_max']=timeseries_df['duration']\n",
    "\n",
    "        #print('Number of completes periods')\n",
    "        #print((timeseries_df.loc[0:i,'Duration']>=min_period).sum())\n",
    "        # print(timeseries_df.loc[0:i,:])\n",
    "        #print(timeseries_df.iloc[i, 0], timeseries_df.iloc[i, 2])\n",
    "\n",
    "    return timeseries_df, max_complete_periods, max_complete_periods_date\n"
   ]
  },
  {
   "cell_type": "code",
   "execution_count": 8,
   "metadata": {
    "tags": []
   },
   "outputs": [
    {
     "output_type": "stream",
     "name": "stdout",
     "text": [
      "Max complete periods: 15655\n"
     ]
    }
   ],
   "source": [
    "input_csv_filename = 'sample_csv_files/time_ranges.csv'\n",
    "min_period=360\n",
    "timeseries_df = pd.read_csv(input_csv_filename)\n",
    "#print(timeseries_df)\n",
    "\n",
    "%timeit\n",
    "#returned_df, max_complete_periods, max_complete_periods_date = run_algorithm(input_csv_filename, min_period)\n",
    "print(\"Max complete periods: \" + str(max_complete_periods))\n",
    "#print(returned_df)"
   ]
  },
  {
   "cell_type": "code",
   "execution_count": 9,
   "metadata": {
    "tags": []
   },
   "outputs": [
    {
     "output_type": "stream",
     "name": "stdout",
     "text": [
      "                    start        meterId  duration  delta  complete_periods  \\\n16143 2021-03-04 23:00:00  SAG0205909972         3      3                 0   \n16144 2021-03-05 23:00:00  SAG0205909973         3      1                 0   \n16145 2021-03-06 23:00:00  SAG0205910047         3      1                 0   \n16146 2021-03-08 01:00:00  SAG0205910036         0      1                 0   \n16147 2021-03-09 23:00:00  SAG0205910046         1      1                 0   \n\n       duration_at_max  \n16143                7  \n16144                6  \n16145                5  \n16146                1  \n16147                1  \n0        CIR0141449180\n1        CIR0141600959\n2        CIR0141601720\n3        CIR0141682188\n4        CIR0141441118\n5        CIR0501631509\n6        CIR0141691244\n7        CIR0141692030\n9        CIR0141600370\n10       CIR0141448720\n11       CIR0141456545\n12       CIR0141606249\n13       CIR0141449251\n14       CIR0141601742\n15       CIR0141601723\n16       CIR0141601476\n17       CIR0141448752\n18       CIR0141456543\n19       CIR0141682187\n20       CIR0141682097\n             ...      \n15777    CIR0141691425\n15778    SAG0185917763\n15779    CIR0141691426\n15780    CIR0141691432\n15781    SAG0185917789\n15782    CIR0141691348\n15783    SAG0185917787\n15784    SAG0185917790\n15785    CIR0501631425\n15786    SAG0185917784\n15787    ZIV0045681792\n15788    SAG0196250062\n15793    CIR0141691347\n15794    ZIV0046094242\n15795    ZIV0046096055\n15796    CIR0141691342\n15797    CIR0141691346\n15798    CIR0141691341\n15799    SAG0185917796\n15800    CIR0141691391\nName: meterId, Length: 15708, dtype: object\nMax duration: 656\n"
     ]
    }
   ],
   "source": [
    "print(returned_df.tail())\n",
    "#print(returned_df.max())\n",
    "#print(returned_df[returned_df['complete_periods']==returned_df['complete_periods'].max()])\n",
    "print(returned_df['meterId'][returned_df['duration_at_max']>min_period]) "
   ]
  },
  {
   "cell_type": "markdown",
   "metadata": {},
   "source": [
    "### Find the best time window"
   ]
  },
  {
   "cell_type": "code",
   "execution_count": 10,
   "metadata": {
    "tags": []
   },
   "outputs": [
    {
     "output_type": "stream",
     "name": "stdout",
     "text": [
      "Max duration: 656\n",
      "Period of 360 days: 15701 meters starting at 2020-03-04 23:00:00\n",
      "Period of 365 days: 15699 meters starting at 2020-02-28 23:00:00\n",
      "Period of 370 days: 15698 meters starting at 2020-03-01 23:00:00\n",
      "Period of 375 days: 15695 meters starting at 2020-02-28 23:00:00\n",
      "Period of 380 days: 15691 meters starting at 2020-02-23 23:00:00\n",
      "Period of 385 days: 15688 meters starting at 2020-02-18 23:00:00\n",
      "Period of 390 days: 15680 meters starting at 2020-02-15 23:00:00\n",
      "Period of 395 days: 15677 meters starting at 2020-02-08 23:00:00\n",
      "Period of 400 days: 15675 meters starting at 2020-02-05 23:00:00\n",
      "Period of 405 days: 15669 meters starting at 2020-01-28 23:00:00\n",
      "Period of 410 days: 15666 meters starting at 2020-01-25 01:00:00\n",
      "Period of 415 days: 15663 meters starting at 2020-01-18 23:00:00\n",
      "Period of 420 days: 15661 meters starting at 2020-01-14 14:00:00\n",
      "Period of 425 days: 15657 meters starting at 2019-11-28 01:00:00\n",
      "Period of 430 days: 15656 meters starting at 2019-11-28 01:00:00\n",
      "Period of 435 days: 15656 meters starting at 2019-11-28 01:00:00\n",
      "Period of 440 days: 15655 meters starting at 2019-11-28 01:00:00\n",
      "Period of 445 days: 15655 meters starting at 2019-11-28 01:00:00\n",
      "Period of 450 days: 15654 meters starting at 2019-11-28 01:00:00\n",
      "Period of 455 days: 15653 meters starting at 2019-11-24 23:00:00\n",
      "Period of 460 days: 15653 meters starting at 2019-11-28 01:00:00\n",
      "Period of 465 days: 15653 meters starting at 2019-11-28 01:00:00\n",
      "Period of 470 days: 15652 meters starting at 2019-11-24 23:00:00\n",
      "Period of 475 days: 15620 meters starting at 2019-11-22 23:00:00\n",
      "Period of 480 days: 15616 meters starting at 2019-11-17 23:00:00\n",
      "Period of 485 days: 15610 meters starting at 2019-11-08 09:00:00\n",
      "Period of 490 days: 15608 meters starting at 2019-11-01 23:00:00\n",
      "Period of 495 days: 15606 meters starting at 2019-10-30 01:00:00\n",
      "Period of 500 days: 15598 meters starting at 2019-10-25 11:00:00\n",
      "Period of 505 days: 15588 meters starting at 2019-10-19 22:00:00\n",
      "Period of 510 days: 15582 meters starting at 2019-10-14 22:00:00\n",
      "Period of 515 days: 15577 meters starting at 2019-10-12 22:00:00\n",
      "Period of 520 days: 15572 meters starting at 2019-10-04 22:00:00\n",
      "Period of 525 days: 15570 meters starting at 2019-09-30 00:00:00\n",
      "Period of 530 days: 15567 meters starting at 2019-09-27 00:00:00\n",
      "Period of 535 days: 15551 meters starting at 2019-09-23 00:00:00\n",
      "Period of 540 days: 15538 meters starting at 2019-09-19 00:00:00\n",
      "Period of 545 days: 15524 meters starting at 2019-09-08 22:00:00\n",
      "Period of 550 days: 15520 meters starting at 2019-09-05 00:00:00\n",
      "Period of 555 days: 15499 meters starting at 2019-09-04 00:00:00\n",
      "Period of 560 days: 15134 meters starting at 2019-08-11 22:00:00\n",
      "Period of 565 days: 15133 meters starting at 2019-08-16 00:00:00\n",
      "Period of 570 days: 15133 meters starting at 2019-08-16 00:00:00\n",
      "Period of 575 days: 15131 meters starting at 2019-08-11 22:00:00\n",
      "Period of 580 days: 15127 meters starting at 2019-08-04 00:00:00\n",
      "Period of 585 days: 15126 meters starting at 2019-08-01 22:00:00\n",
      "Period of 590 days: 15116 meters starting at 2019-07-31 00:00:00\n",
      "Period of 595 days: 14855 meters starting at 2019-07-17 22:00:00\n",
      "Period of 600 days: 14854 meters starting at 2019-07-12 22:00:00\n",
      "Period of 605 days: 14851 meters starting at 2019-07-04 22:00:00\n",
      "Period of 610 days: 14848 meters starting at 2019-07-04 22:00:00\n",
      "Period of 615 days: 14842 meters starting at 2019-07-04 22:00:00\n",
      "Period of 620 days: 14756 meters starting at 2019-06-28 14:00:00\n",
      "Period of 625 days: 14727 meters starting at 2019-06-25 22:00:00\n",
      "Period of 630 days: 14578 meters starting at 2019-06-20 22:00:00\n",
      "Period of 635 days: 14473 meters starting at 2019-06-15 22:00:00\n",
      "Period of 640 days: 14154 meters starting at 2019-06-10 22:00:00\n",
      "Period of 645 days: 14033 meters starting at 2019-06-03 22:00:00\n",
      "Period of 650 days: 12832 meters starting at 2019-06-01 00:00:00\n",
      "Period of 655 days: 35 meters starting at 2019-05-26 23:00:00\n"
     ]
    }
   ],
   "source": [
    "csv_input_filename = 'sample_csv_files/time_ranges.csv'\n",
    "timeseries_df = pd.read_csv(csv_input_filename)\n",
    "\n",
    "# get longest period\n",
    "max_duration= timeseries_df['duration'].max()\n",
    "print('Max duration: ' + str(max_duration))\n",
    "\n",
    "for min_period in range(360, max_duration, 5):\n",
    "    returned_df, max_complete_periods, max_complete_periods_date = run_algorithm(csv_input_filename, min_period)\n",
    "    #number_meters = returned_df[returned_df['duration_at_max'] > min_period].shape[0]\n",
    "    print(f\"Period of {min_period} days: {max_complete_periods} meters starting at {max_complete_periods_date}\")"
   ]
  },
  {
   "cell_type": "markdown",
   "metadata": {},
   "source": [
    "### Run the algorithm with the best time window\n",
    "We consider 590 days/15116 meters as the optimal value. We have to get the list of meters which match in this time window."
   ]
  },
  {
   "cell_type": "code",
   "execution_count": 13,
   "metadata": {},
   "outputs": [
    {
     "output_type": "error",
     "ename": "KeyError",
     "evalue": "'meterID'",
     "traceback": [
      "\u001b[0;31m---------------------------------------------------------------------------\u001b[0m",
      "\u001b[0;31mKeyError\u001b[0m                                  Traceback (most recent call last)",
      "\u001b[0;32m/usr/lib/python3/dist-packages/pandas/core/indexes/base.py\u001b[0m in \u001b[0;36mget_loc\u001b[0;34m(self, key, method, tolerance)\u001b[0m\n\u001b[1;32m   2524\u001b[0m             \u001b[0;32mtry\u001b[0m\u001b[0;34m:\u001b[0m\u001b[0;34m\u001b[0m\u001b[0;34m\u001b[0m\u001b[0m\n\u001b[0;32m-> 2525\u001b[0;31m                 \u001b[0;32mreturn\u001b[0m \u001b[0mself\u001b[0m\u001b[0;34m.\u001b[0m\u001b[0m_engine\u001b[0m\u001b[0;34m.\u001b[0m\u001b[0mget_loc\u001b[0m\u001b[0;34m(\u001b[0m\u001b[0mkey\u001b[0m\u001b[0;34m)\u001b[0m\u001b[0;34m\u001b[0m\u001b[0;34m\u001b[0m\u001b[0m\n\u001b[0m\u001b[1;32m   2526\u001b[0m             \u001b[0;32mexcept\u001b[0m \u001b[0mKeyError\u001b[0m\u001b[0;34m:\u001b[0m\u001b[0;34m\u001b[0m\u001b[0;34m\u001b[0m\u001b[0m\n",
      "\u001b[0;32mpandas/_libs/index.pyx\u001b[0m in \u001b[0;36mpandas._libs.index.IndexEngine.get_loc\u001b[0;34m()\u001b[0m\n",
      "\u001b[0;32mpandas/_libs/index.pyx\u001b[0m in \u001b[0;36mpandas._libs.index.IndexEngine.get_loc\u001b[0;34m()\u001b[0m\n",
      "\u001b[0;32mpandas/_libs/hashtable_class_helper.pxi\u001b[0m in \u001b[0;36mpandas._libs.hashtable.PyObjectHashTable.get_item\u001b[0;34m()\u001b[0m\n",
      "\u001b[0;32mpandas/_libs/hashtable_class_helper.pxi\u001b[0m in \u001b[0;36mpandas._libs.hashtable.PyObjectHashTable.get_item\u001b[0;34m()\u001b[0m\n",
      "\u001b[0;31mKeyError\u001b[0m: 'meterID'",
      "\nDuring handling of the above exception, another exception occurred:\n",
      "\u001b[0;31mKeyError\u001b[0m                                  Traceback (most recent call last)",
      "\u001b[0;32m<ipython-input-13-6bf771e05d26>\u001b[0m in \u001b[0;36m<module>\u001b[0;34m\u001b[0m\n\u001b[1;32m      1\u001b[0m \u001b[0mbest_time_period\u001b[0m \u001b[0;34m=\u001b[0m \u001b[0;36m590\u001b[0m\u001b[0;34m\u001b[0m\u001b[0;34m\u001b[0m\u001b[0m\n\u001b[1;32m      2\u001b[0m \u001b[0mresults\u001b[0m\u001b[0;34m,\u001b[0m \u001b[0mmax_complete_periods\u001b[0m\u001b[0;34m,\u001b[0m \u001b[0mmax_complete_periods_date\u001b[0m \u001b[0;34m=\u001b[0m \u001b[0mrun_algorithm\u001b[0m\u001b[0;34m(\u001b[0m\u001b[0mcsv_input_filename\u001b[0m\u001b[0;34m,\u001b[0m \u001b[0mbest_time_period\u001b[0m\u001b[0;34m)\u001b[0m\u001b[0;34m\u001b[0m\u001b[0;34m\u001b[0m\u001b[0m\n\u001b[0;32m----> 3\u001b[0;31m \u001b[0mmeters\u001b[0m \u001b[0;34m=\u001b[0m \u001b[0mresults\u001b[0m\u001b[0;34m[\u001b[0m\u001b[0;34m'meterID'\u001b[0m\u001b[0;34m]\u001b[0m\u001b[0;34m[\u001b[0m\u001b[0mresults\u001b[0m\u001b[0;34m[\u001b[0m\u001b[0;34m'duration_at_max'\u001b[0m\u001b[0;34m]\u001b[0m\u001b[0;34m>\u001b[0m\u001b[0mbest_time_period\u001b[0m\u001b[0;34m]\u001b[0m\u001b[0;34m\u001b[0m\u001b[0;34m\u001b[0m\u001b[0m\n\u001b[0m\u001b[1;32m      4\u001b[0m \u001b[0mprint\u001b[0m\u001b[0;34m(\u001b[0m\u001b[0;34m'The list has '\u001b[0m \u001b[0;34m+\u001b[0m \u001b[0mstr\u001b[0m\u001b[0;34m(\u001b[0m\u001b[0mmeters\u001b[0m\u001b[0;34m.\u001b[0m\u001b[0mlen\u001b[0m\u001b[0;34m(\u001b[0m\u001b[0;34m)\u001b[0m\u001b[0;34m)\u001b[0m \u001b[0;34m+\u001b[0m \u001b[0;34m'meters.'\u001b[0m\u001b[0;34m)\u001b[0m\u001b[0;34m\u001b[0m\u001b[0;34m\u001b[0m\u001b[0m\n\u001b[1;32m      5\u001b[0m \u001b[0mprint\u001b[0m\u001b[0;34m(\u001b[0m\u001b[0mmeters\u001b[0m\u001b[0;34m)\u001b[0m\u001b[0;34m\u001b[0m\u001b[0;34m\u001b[0m\u001b[0m\n",
      "\u001b[0;32m/usr/lib/python3/dist-packages/pandas/core/frame.py\u001b[0m in \u001b[0;36m__getitem__\u001b[0;34m(self, key)\u001b[0m\n\u001b[1;32m   2137\u001b[0m             \u001b[0;32mreturn\u001b[0m \u001b[0mself\u001b[0m\u001b[0;34m.\u001b[0m\u001b[0m_getitem_multilevel\u001b[0m\u001b[0;34m(\u001b[0m\u001b[0mkey\u001b[0m\u001b[0;34m)\u001b[0m\u001b[0;34m\u001b[0m\u001b[0;34m\u001b[0m\u001b[0m\n\u001b[1;32m   2138\u001b[0m         \u001b[0;32melse\u001b[0m\u001b[0;34m:\u001b[0m\u001b[0;34m\u001b[0m\u001b[0;34m\u001b[0m\u001b[0m\n\u001b[0;32m-> 2139\u001b[0;31m             \u001b[0;32mreturn\u001b[0m \u001b[0mself\u001b[0m\u001b[0;34m.\u001b[0m\u001b[0m_getitem_column\u001b[0m\u001b[0;34m(\u001b[0m\u001b[0mkey\u001b[0m\u001b[0;34m)\u001b[0m\u001b[0;34m\u001b[0m\u001b[0;34m\u001b[0m\u001b[0m\n\u001b[0m\u001b[1;32m   2140\u001b[0m \u001b[0;34m\u001b[0m\u001b[0m\n\u001b[1;32m   2141\u001b[0m     \u001b[0;32mdef\u001b[0m \u001b[0m_getitem_column\u001b[0m\u001b[0;34m(\u001b[0m\u001b[0mself\u001b[0m\u001b[0;34m,\u001b[0m \u001b[0mkey\u001b[0m\u001b[0;34m)\u001b[0m\u001b[0;34m:\u001b[0m\u001b[0;34m\u001b[0m\u001b[0;34m\u001b[0m\u001b[0m\n",
      "\u001b[0;32m/usr/lib/python3/dist-packages/pandas/core/frame.py\u001b[0m in \u001b[0;36m_getitem_column\u001b[0;34m(self, key)\u001b[0m\n\u001b[1;32m   2144\u001b[0m         \u001b[0;31m# get column\u001b[0m\u001b[0;34m\u001b[0m\u001b[0;34m\u001b[0m\u001b[0;34m\u001b[0m\u001b[0m\n\u001b[1;32m   2145\u001b[0m         \u001b[0;32mif\u001b[0m \u001b[0mself\u001b[0m\u001b[0;34m.\u001b[0m\u001b[0mcolumns\u001b[0m\u001b[0;34m.\u001b[0m\u001b[0mis_unique\u001b[0m\u001b[0;34m:\u001b[0m\u001b[0;34m\u001b[0m\u001b[0;34m\u001b[0m\u001b[0m\n\u001b[0;32m-> 2146\u001b[0;31m             \u001b[0;32mreturn\u001b[0m \u001b[0mself\u001b[0m\u001b[0;34m.\u001b[0m\u001b[0m_get_item_cache\u001b[0m\u001b[0;34m(\u001b[0m\u001b[0mkey\u001b[0m\u001b[0;34m)\u001b[0m\u001b[0;34m\u001b[0m\u001b[0;34m\u001b[0m\u001b[0m\n\u001b[0m\u001b[1;32m   2147\u001b[0m \u001b[0;34m\u001b[0m\u001b[0m\n\u001b[1;32m   2148\u001b[0m         \u001b[0;31m# duplicate columns & possible reduce dimensionality\u001b[0m\u001b[0;34m\u001b[0m\u001b[0;34m\u001b[0m\u001b[0;34m\u001b[0m\u001b[0m\n",
      "\u001b[0;32m/usr/lib/python3/dist-packages/pandas/core/generic.py\u001b[0m in \u001b[0;36m_get_item_cache\u001b[0;34m(self, item)\u001b[0m\n\u001b[1;32m   1840\u001b[0m         \u001b[0mres\u001b[0m \u001b[0;34m=\u001b[0m \u001b[0mcache\u001b[0m\u001b[0;34m.\u001b[0m\u001b[0mget\u001b[0m\u001b[0;34m(\u001b[0m\u001b[0mitem\u001b[0m\u001b[0;34m)\u001b[0m\u001b[0;34m\u001b[0m\u001b[0;34m\u001b[0m\u001b[0m\n\u001b[1;32m   1841\u001b[0m         \u001b[0;32mif\u001b[0m \u001b[0mres\u001b[0m \u001b[0;32mis\u001b[0m \u001b[0;32mNone\u001b[0m\u001b[0;34m:\u001b[0m\u001b[0;34m\u001b[0m\u001b[0;34m\u001b[0m\u001b[0m\n\u001b[0;32m-> 1842\u001b[0;31m             \u001b[0mvalues\u001b[0m \u001b[0;34m=\u001b[0m \u001b[0mself\u001b[0m\u001b[0;34m.\u001b[0m\u001b[0m_data\u001b[0m\u001b[0;34m.\u001b[0m\u001b[0mget\u001b[0m\u001b[0;34m(\u001b[0m\u001b[0mitem\u001b[0m\u001b[0;34m)\u001b[0m\u001b[0;34m\u001b[0m\u001b[0;34m\u001b[0m\u001b[0m\n\u001b[0m\u001b[1;32m   1843\u001b[0m             \u001b[0mres\u001b[0m \u001b[0;34m=\u001b[0m \u001b[0mself\u001b[0m\u001b[0;34m.\u001b[0m\u001b[0m_box_item_values\u001b[0m\u001b[0;34m(\u001b[0m\u001b[0mitem\u001b[0m\u001b[0;34m,\u001b[0m \u001b[0mvalues\u001b[0m\u001b[0;34m)\u001b[0m\u001b[0;34m\u001b[0m\u001b[0;34m\u001b[0m\u001b[0m\n\u001b[1;32m   1844\u001b[0m             \u001b[0mcache\u001b[0m\u001b[0;34m[\u001b[0m\u001b[0mitem\u001b[0m\u001b[0;34m]\u001b[0m \u001b[0;34m=\u001b[0m \u001b[0mres\u001b[0m\u001b[0;34m\u001b[0m\u001b[0;34m\u001b[0m\u001b[0m\n",
      "\u001b[0;32m/usr/lib/python3/dist-packages/pandas/core/internals.py\u001b[0m in \u001b[0;36mget\u001b[0;34m(self, item, fastpath)\u001b[0m\n\u001b[1;32m   3841\u001b[0m \u001b[0;34m\u001b[0m\u001b[0m\n\u001b[1;32m   3842\u001b[0m             \u001b[0;32mif\u001b[0m \u001b[0;32mnot\u001b[0m \u001b[0misna\u001b[0m\u001b[0;34m(\u001b[0m\u001b[0mitem\u001b[0m\u001b[0;34m)\u001b[0m\u001b[0;34m:\u001b[0m\u001b[0;34m\u001b[0m\u001b[0;34m\u001b[0m\u001b[0m\n\u001b[0;32m-> 3843\u001b[0;31m                 \u001b[0mloc\u001b[0m \u001b[0;34m=\u001b[0m \u001b[0mself\u001b[0m\u001b[0;34m.\u001b[0m\u001b[0mitems\u001b[0m\u001b[0;34m.\u001b[0m\u001b[0mget_loc\u001b[0m\u001b[0;34m(\u001b[0m\u001b[0mitem\u001b[0m\u001b[0;34m)\u001b[0m\u001b[0;34m\u001b[0m\u001b[0;34m\u001b[0m\u001b[0m\n\u001b[0m\u001b[1;32m   3844\u001b[0m             \u001b[0;32melse\u001b[0m\u001b[0;34m:\u001b[0m\u001b[0;34m\u001b[0m\u001b[0;34m\u001b[0m\u001b[0m\n\u001b[1;32m   3845\u001b[0m                 \u001b[0mindexer\u001b[0m \u001b[0;34m=\u001b[0m \u001b[0mnp\u001b[0m\u001b[0;34m.\u001b[0m\u001b[0marange\u001b[0m\u001b[0;34m(\u001b[0m\u001b[0mlen\u001b[0m\u001b[0;34m(\u001b[0m\u001b[0mself\u001b[0m\u001b[0;34m.\u001b[0m\u001b[0mitems\u001b[0m\u001b[0;34m)\u001b[0m\u001b[0;34m)\u001b[0m\u001b[0;34m[\u001b[0m\u001b[0misna\u001b[0m\u001b[0;34m(\u001b[0m\u001b[0mself\u001b[0m\u001b[0;34m.\u001b[0m\u001b[0mitems\u001b[0m\u001b[0;34m)\u001b[0m\u001b[0;34m]\u001b[0m\u001b[0;34m\u001b[0m\u001b[0;34m\u001b[0m\u001b[0m\n",
      "\u001b[0;32m/usr/lib/python3/dist-packages/pandas/core/indexes/base.py\u001b[0m in \u001b[0;36mget_loc\u001b[0;34m(self, key, method, tolerance)\u001b[0m\n\u001b[1;32m   2525\u001b[0m                 \u001b[0;32mreturn\u001b[0m \u001b[0mself\u001b[0m\u001b[0;34m.\u001b[0m\u001b[0m_engine\u001b[0m\u001b[0;34m.\u001b[0m\u001b[0mget_loc\u001b[0m\u001b[0;34m(\u001b[0m\u001b[0mkey\u001b[0m\u001b[0;34m)\u001b[0m\u001b[0;34m\u001b[0m\u001b[0;34m\u001b[0m\u001b[0m\n\u001b[1;32m   2526\u001b[0m             \u001b[0;32mexcept\u001b[0m \u001b[0mKeyError\u001b[0m\u001b[0;34m:\u001b[0m\u001b[0;34m\u001b[0m\u001b[0;34m\u001b[0m\u001b[0m\n\u001b[0;32m-> 2527\u001b[0;31m                 \u001b[0;32mreturn\u001b[0m \u001b[0mself\u001b[0m\u001b[0;34m.\u001b[0m\u001b[0m_engine\u001b[0m\u001b[0;34m.\u001b[0m\u001b[0mget_loc\u001b[0m\u001b[0;34m(\u001b[0m\u001b[0mself\u001b[0m\u001b[0;34m.\u001b[0m\u001b[0m_maybe_cast_indexer\u001b[0m\u001b[0;34m(\u001b[0m\u001b[0mkey\u001b[0m\u001b[0;34m)\u001b[0m\u001b[0;34m)\u001b[0m\u001b[0;34m\u001b[0m\u001b[0;34m\u001b[0m\u001b[0m\n\u001b[0m\u001b[1;32m   2528\u001b[0m \u001b[0;34m\u001b[0m\u001b[0m\n\u001b[1;32m   2529\u001b[0m         \u001b[0mindexer\u001b[0m \u001b[0;34m=\u001b[0m \u001b[0mself\u001b[0m\u001b[0;34m.\u001b[0m\u001b[0mget_indexer\u001b[0m\u001b[0;34m(\u001b[0m\u001b[0;34m[\u001b[0m\u001b[0mkey\u001b[0m\u001b[0;34m]\u001b[0m\u001b[0;34m,\u001b[0m \u001b[0mmethod\u001b[0m\u001b[0;34m=\u001b[0m\u001b[0mmethod\u001b[0m\u001b[0;34m,\u001b[0m \u001b[0mtolerance\u001b[0m\u001b[0;34m=\u001b[0m\u001b[0mtolerance\u001b[0m\u001b[0;34m)\u001b[0m\u001b[0;34m\u001b[0m\u001b[0;34m\u001b[0m\u001b[0m\n",
      "\u001b[0;32mpandas/_libs/index.pyx\u001b[0m in \u001b[0;36mpandas._libs.index.IndexEngine.get_loc\u001b[0;34m()\u001b[0m\n",
      "\u001b[0;32mpandas/_libs/index.pyx\u001b[0m in \u001b[0;36mpandas._libs.index.IndexEngine.get_loc\u001b[0;34m()\u001b[0m\n",
      "\u001b[0;32mpandas/_libs/hashtable_class_helper.pxi\u001b[0m in \u001b[0;36mpandas._libs.hashtable.PyObjectHashTable.get_item\u001b[0;34m()\u001b[0m\n",
      "\u001b[0;32mpandas/_libs/hashtable_class_helper.pxi\u001b[0m in \u001b[0;36mpandas._libs.hashtable.PyObjectHashTable.get_item\u001b[0;34m()\u001b[0m\n",
      "\u001b[0;31mKeyError\u001b[0m: 'meterID'"
     ]
    }
   ],
   "source": [
    "best_time_period = 590\n",
    "results, max_complete_periods, max_complete_periods_date = run_algorithm(csv_input_filename, best_time_period)\n",
    "meters = results[results['duration_at_max']>=best_time_period]['meterId']\n",
    "print('The list has ' + str(meters.len()) + 'meters.')\n",
    "print(meters)"
   ]
  },
  {
   "cell_type": "code",
   "execution_count": 22,
   "metadata": {},
   "outputs": [
    {
     "output_type": "stream",
     "name": "stdout",
     "text": [
      "The list has 15116meters.\n0        CIR0141449180\n1        CIR0141600959\n2        CIR0141601720\n3        CIR0141682188\n4        CIR0141441118\n5        CIR0501631509\n6        CIR0141691244\n7        CIR0141692030\n9        CIR0141600370\n10       CIR0141448720\n11       CIR0141456545\n12       CIR0141606249\n13       CIR0141449251\n14       CIR0141601742\n15       CIR0141601723\n16       CIR0141601476\n17       CIR0141448752\n18       CIR0141456543\n19       CIR0141682187\n20       CIR0141682097\n             ...      \n15186    CIR0141600434\n15187    CIR0141689810\n15188    CIR0141690537\n15189    CIR0141682038\n15190    CIR0141600432\n15191    CIR0141690595\n15192    CIR0141682023\n15193    CIR0141690588\n15194    CIR0141600418\n15195    CIR0141681976\n15196    CIR0141690598\n15197    CIR0141690593\n15198    CIR0141690452\n15199    CIR0141690463\n15200    CIR0141690171\n15201    CIR0141690065\n15202    CIR0141682127\n15203    CIR0141600439\n15204    CIR0141601501\n15205    CIR0141601451\nName: meterId, Length: 15116, dtype: object\n"
     ]
    }
   ],
   "source": [
    "meters = results[results['duration_at_max']>=best_time_period]['meterId']\n",
    "print('The list has ' + str(meters.size) + 'meters.')\n",
    "#print(meters)"
   ]
  },
  {
   "cell_type": "code",
   "execution_count": null,
   "metadata": {},
   "outputs": [],
   "source": [
    "for min_period in range(360, 721, 30):\n",
    "    returned_df = run_algorithm(csv_input_filename, min_period)\n",
    "    number_meters = returned_df[returned_df['complete_periods'] > 0].shape[0]\n",
    "    print(f\"Period of {min_period} days: {number_meters} meters\")"
   ]
  },
  {
   "cell_type": "code",
   "execution_count": null,
   "metadata": {},
   "outputs": [],
   "source": [
    "min_date = max(results['start'])\n",
    "print(\"Min date: \" + str(min_date))"
   ]
  },
  {
   "cell_type": "markdown",
   "metadata": {},
   "source": [
    "### Try the results"
   ]
  },
  {
   "cell_type": "code",
   "execution_count": null,
   "metadata": {},
   "outputs": [],
   "source": [
    "from datetime import datetime as dt, timedelta as td"
   ]
  },
  {
   "cell_type": "code",
   "execution_count": null,
   "metadata": {},
   "outputs": [],
   "source": [
    "df = pd.read_csv('reactive_values/meter_data_ZIV0046096055_S02.csv')\n",
    "df['timestamp'] = pd.to_datetime(df['timestamp'])"
   ]
  },
  {
   "cell_type": "code",
   "execution_count": null,
   "metadata": {},
   "outputs": [],
   "source": [
    "expected_delta = td(days=best_time_period)\n",
    "print(max(df['timestamp']))\n",
    "print(min(df['timestamp']))"
   ]
  },
  {
   "cell_type": "code",
   "execution_count": null,
   "metadata": {},
   "outputs": [],
   "source": [
    "dt(2021, 3, 11) - dt(2019, 9, 6)"
   ]
  },
  {
   "cell_type": "code",
   "execution_count": null,
   "metadata": {},
   "outputs": [],
   "source": [
    "df['timestamp'].sort_values()"
   ]
  },
  {
   "cell_type": "code",
   "execution_count": null,
   "metadata": {},
   "outputs": [],
   "source": [
    "df = pd.read_csv('time_ranges.csv')"
   ]
  },
  {
   "cell_type": "code",
   "execution_count": null,
   "metadata": {},
   "outputs": [],
   "source": [
    "df.sort_values(by='start')"
   ]
  },
  {
   "cell_type": "code",
   "execution_count": null,
   "metadata": {},
   "outputs": [],
   "source": []
  }
 ],
 "metadata": {
  "colab": {
   "collapsed_sections": [],
   "name": "Max_overllaping_timeseries.ipynb",
   "provenance": []
  },
  "kernelspec": {
   "name": "python3",
   "display_name": "Python 3.6.9 64-bit"
  },
  "language_info": {
   "codemirror_mode": {
    "name": "ipython",
    "version": 3
   },
   "file_extension": ".py",
   "mimetype": "text/x-python",
   "name": "python",
   "nbconvert_exporter": "python",
   "pygments_lexer": "ipython3",
   "version": "3.6.9"
  },
  "interpreter": {
   "hash": "31f2aee4e71d21fbe5cf8b01ff0e069b9275f58929596ceb00d14d90e3e16cd6"
  }
 },
 "nbformat": 4,
 "nbformat_minor": 4
}
