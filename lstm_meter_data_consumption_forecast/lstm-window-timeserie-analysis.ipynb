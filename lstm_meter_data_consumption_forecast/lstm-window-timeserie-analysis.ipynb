{
 "cells": [
  {
   "cell_type": "markdown",
   "metadata": {},
   "source": [
    "# Smart meter Time-series data analysis using LSTM\n",
    "\n",
    "Based on the great article of Jason Brownlee PhD: [Time Series Prediction with LSTM Recurrent Neural Networks in Python with Keras](https://machinelearningmastery.com/time-series-prediction-lstm-recurrent-neural-networks-python-keras/?utm_source=drip&utm_medium=email&utm_campaign=MLM+Newsletter+December+20%2C+2024&utm_content=Deploy+Machine+Learning+Models+with+Streamlit+%E2%80%A2+7+Machine+Learning+Projects+For+Beginners)\n",
    "\n",
    "## Definition of data\n",
    "\n",
    "We are going to use S02 files (hourly data). The columns of the CSV are as follows:\n",
    "\n",
    "1. _date_ Date in format dd/mm/yyyy\n",
    "\n",
    "2. _time_: time in format hh:mm:ss\n",
    "\n",
    "3. _global_active_power_: household global minute-averaged active power (in KWh)\n",
    "\n",
    "4. _global_reactive_power_: household global minute-averaged reactive power (in KWh)\n",
    "\n",
    "5. _voltage_: minute-averaged voltage (in volt)\n",
    "\n",
    "6. _global_intensity_: household global minute-averaged current intensity (in ampere)"
   ]
  },
  {
   "cell_type": "markdown",
   "metadata": {},
   "source": [
    "## Power consumption regression using simple LSTM"
   ]
  },
  {
   "cell_type": "code",
   "execution_count": 8,
   "metadata": {},
   "outputs": [],
   "source": [
    "# Let`s import all packages that we may need:\n",
    "\n",
    "import sys \n",
    "import numpy as np # linear algebra\n",
    "from scipy.stats import randint\n",
    "import pandas as pd # data processing, CSV file I/O (e.g. pd.read_csv), data manipulation as in SQL\n",
    "import matplotlib.pyplot as plt # this is used for the plot the graph \n",
    "import seaborn as sns # used for plot interactive graph. \n",
    "from sklearn.model_selection import train_test_split # to split the data into two parts\n",
    "from sklearn.preprocessing import StandardScaler # for normalization\n",
    "from sklearn.preprocessing import MinMaxScaler\n",
    "from sklearn.pipeline import Pipeline # pipeline making\n",
    "from sklearn.model_selection import cross_val_score\n",
    "from sklearn.feature_selection import SelectFromModel\n",
    "from sklearn import metrics # for the check the error and accuracy of the model\n",
    "from sklearn.metrics import mean_squared_error,r2_score\n",
    "\n",
    "## for Deep-learing:\n",
    "import tensorflow as tf\n",
    "from tensorflow.keras.models import Sequential\n",
    "from tensorflow.keras.layers import Dense\n",
    "from tensorflow.keras.layers import LSTM\n",
    "from sklearn.preprocessing import MinMaxScaler\n",
    "from sklearn.metrics import mean_squared_error\n",
    "\n",
    "\n",
    "# fix random seed for reproducibility\n",
    "tf.random.set_seed(20)\n",
    "\n",
    "# load the dataset\n",
    "dataframe = pd.read_csv('/home/antonroman/src/smart_meter_data_analysis/data_processing/aggregated_reactive/agg_values_S02_100.csv', usecols=[1], engine='python')\n",
    "\n"
   ]
  },
  {
   "cell_type": "markdown",
   "metadata": {},
   "source": [
    "In order to make a valid simulation we need to remove outliers to get more accurate predictions and also, allow a correct visualization of the data."
   ]
  },
  {
   "cell_type": "code",
   "execution_count": 9,
   "metadata": {},
   "outputs": [
    {
     "name": "stdout",
     "output_type": "stream",
     "text": [
      "               R1    z_score\n",
      "264  1.000207e+09  66.258136\n",
      "313  1.000640e+09  66.286867\n",
      "               R1\n",
      "0       60894.000\n",
      "1     1058979.159\n",
      "2     1039399.871\n",
      "3     1014893.270\n",
      "4      999049.244\n",
      "...           ...\n",
      "8785  1150728.264\n",
      "8786  1127267.496\n",
      "8787  1127007.644\n",
      "8788  1069735.342\n",
      "8789   465998.956\n",
      "\n",
      "[8788 rows x 1 columns]\n"
     ]
    },
    {
     "data": {
      "text/plain": [
       "[<matplotlib.lines.Line2D at 0x7f3eb5fb70d0>]"
      ]
     },
     "execution_count": 9,
     "metadata": {},
     "output_type": "execute_result"
    },
    {
     "data": {
      "image/png": "[encoded data removed]",
      "text/plain": [
       "<Figure size 432x288 with 1 Axes>"
      ]
     },
     "metadata": {
      "needs_background": "light"
     },
     "output_type": "display_data"
    }
   ],
   "source": [
    "\n",
    "# create histogram\n",
    "#dataframe.boxplot()\n",
    "\n",
    "#print(dataset)\n",
    "#plt.plot(dataset)\n",
    "\n",
    "#dataframe.info()\n",
    "#filtered_df = dataframe[dataframe[\"R1\"] > 10000000]\n",
    "#print(filtered_df)\n",
    "\n",
    "from scipy import stats\n",
    "dataframe['z_score']=stats.zscore(dataframe['R1'])\n",
    "\n",
    "# manual inspection of outliers\n",
    "filtered_df = dataframe[dataframe[\"R1\"] > 10000000]\n",
    "print(filtered_df)\n",
    "\n",
    "# manual inspection of outliers after z_score removal\n",
    "dataframe = dataframe[dataframe['z_score'].abs()<=2]\n",
    "dataframe = dataframe.drop(columns='z_score')\n",
    "print(dataframe)\n",
    "\n",
    "dataset = dataframe.values\n",
    "dataset = dataset.astype('float32')\n",
    "plt.plot(dataset)"
   ]
  },
  {
   "cell_type": "markdown",
   "metadata": {},
   "source": [
    "Data needs to be normalized to make sure the LSTM algortihm runs correctly. "
   ]
  },
  {
   "cell_type": "code",
   "execution_count": 10,
   "metadata": {},
   "outputs": [
    {
     "data": {
      "text/plain": [
       "[<matplotlib.lines.Line2D at 0x7f3eb63a2b50>]"
      ]
     },
     "execution_count": 10,
     "metadata": {},
     "output_type": "execute_result"
    },
    {
     "data": {
      "image/png": "[encoded data removed]",
      "text/plain": [
       "<Figure size 432x288 with 1 Axes>"
      ]
     },
     "metadata": {
      "needs_background": "light"
     },
     "output_type": "display_data"
    }
   ],
   "source": [
    "\n",
    "# normalize the dataset\n",
    "scaler = MinMaxScaler(feature_range=(0, 1))\n",
    "dataset = scaler.fit_transform(dataset)\n",
    "plt.plot(dataset)\n"
   ]
  },
  {
   "cell_type": "markdown",
   "metadata": {},
   "source": [
    "With time series data, the sequence of values is important. A simple method that you can use is to split the ordered dataset into train and test datasets. The code below calculates the index of the split point and separates the data into the training datasets, with 67% of the observations used to train the model, leaving the remaining 33% for testing the model"
   ]
  },
  {
   "cell_type": "code",
   "execution_count": 11,
   "metadata": {},
   "outputs": [
    {
     "name": "stdout",
     "output_type": "stream",
     "text": [
      "5887 2901\n"
     ]
    }
   ],
   "source": [
    "# split into train and test sets\n",
    "train_size = int(len(dataset) * 0.67)\n",
    "test_size = len(dataset) - train_size\n",
    "train, test = dataset[0:train_size,:], dataset[train_size:len(dataset),:]\n",
    "print(len(train), len(test))"
   ]
  },
  {
   "cell_type": "code",
   "execution_count": 12,
   "metadata": {},
   "outputs": [
    {
     "name": "stdout",
     "output_type": "stream",
     "text": [
      "[[  60894.  ]\n",
      " [1058979.1 ]\n",
      " [1039399.9 ]\n",
      " ...\n",
      " [1127007.6 ]\n",
      " [1069735.4 ]\n",
      " [ 465998.94]]\n"
     ]
    },
    {
     "data": {
      "text/plain": [
       "[<matplotlib.lines.Line2D at 0x7f3eb62d88b0>]"
      ]
     },
     "execution_count": 12,
     "metadata": {},
     "output_type": "execute_result"
    },
    {
     "data": {
      "image/png": "[encoded data removed]",
      "text/plain": [
       "<Figure size 432x288 with 1 Axes>"
      ]
     },
     "metadata": {
      "needs_background": "light"
     },
     "output_type": "display_data"
    }
   ],
   "source": [
    "print(scaler.inverse_transform(dataset))\n",
    "plt.plot(scaler.inverse_transform(dataset))"
   ]
  },
  {
   "cell_type": "markdown",
   "metadata": {},
   "source": [
    "## Power consumption regression with LSTM Using the Window Method"
   ]
  },
  {
   "cell_type": "code",
   "execution_count": 13,
   "metadata": {},
   "outputs": [],
   "source": [
    "# convert an array of values into a dataset matrix\n",
    "def create_dataset(dataset, look_back=1):\n",
    "\tdataX, dataY = [], []\n",
    "\tfor i in range(len(dataset)-look_back-1):\n",
    "\t\ta = dataset[i:(i+look_back), 0]\n",
    "\t\tdataX.append(a)\n",
    "\t\tdataY.append(dataset[i + look_back, 0])\n",
    "\treturn np.array(dataX), np.array(dataY)\n",
    "# fix random seed for reproducibility\n",
    "tf.random.set_seed(7)"
   ]
  },
  {
   "cell_type": "code",
   "execution_count": 14,
   "metadata": {},
   "outputs": [],
   "source": [
    "# reshape into X=t and Y=t+1\n",
    "look_back = 3\n",
    "trainX, trainY = create_dataset(train, look_back)\n",
    "testX, testY = create_dataset(test, look_back)\n",
    "# reshape input to be [samples, time steps, features]\n",
    "trainX = np.reshape(trainX, (trainX.shape[0], 1, trainX.shape[1]))\n",
    "testX = np.reshape(testX, (testX.shape[0], 1, testX.shape[1]))"
   ]
  },
  {
   "cell_type": "code",
   "execution_count": 15,
   "metadata": {},
   "outputs": [
    {
     "name": "stdout",
     "output_type": "stream",
     "text": [
      "[[[0.01001651 0.17419791 0.17097719]]\n",
      "\n",
      " [[0.17419791 0.17097719 0.16694595]]\n",
      "\n",
      " [[0.17097719 0.16694595 0.16433966]]\n",
      "\n",
      " ...\n",
      "\n",
      " [[0.11870813 0.08296372 0.04772167]]\n",
      "\n",
      " [[0.08296372 0.04772167 0.18132181]]\n",
      "\n",
      " [[0.04772167 0.18132181 0.17794856]]]\n"
     ]
    }
   ],
   "source": [
    "print(trainX)"
   ]
  },
  {
   "cell_type": "code",
   "execution_count": 16,
   "metadata": {},
   "outputs": [
    {
     "name": "stdout",
     "output_type": "stream",
     "text": [
      "Epoch 1/100\n",
      "5883/5883 - 27s - loss: 0.0019 - 27s/epoch - 5ms/step\n",
      "Epoch 2/100\n",
      "5883/5883 - 20s - loss: 0.0015 - 20s/epoch - 3ms/step\n",
      "Epoch 3/100\n",
      "5883/5883 - 19s - loss: 0.0014 - 19s/epoch - 3ms/step\n",
      "Epoch 4/100\n",
      "5883/5883 - 19s - loss: 0.0014 - 19s/epoch - 3ms/step\n",
      "Epoch 5/100\n",
      "5883/5883 - 19s - loss: 0.0014 - 19s/epoch - 3ms/step\n",
      "Epoch 6/100\n",
      "5883/5883 - 19s - loss: 0.0014 - 19s/epoch - 3ms/step\n",
      "Epoch 7/100\n",
      "5883/5883 - 19s - loss: 0.0014 - 19s/epoch - 3ms/step\n",
      "Epoch 8/100\n",
      "5883/5883 - 20s - loss: 0.0014 - 20s/epoch - 3ms/step\n",
      "Epoch 9/100\n",
      "5883/5883 - 18s - loss: 0.0014 - 18s/epoch - 3ms/step\n",
      "Epoch 10/100\n",
      "5883/5883 - 18s - loss: 0.0013 - 18s/epoch - 3ms/step\n",
      "Epoch 11/100\n",
      "5883/5883 - 19s - loss: 0.0013 - 19s/epoch - 3ms/step\n",
      "Epoch 12/100\n",
      "5883/5883 - 20s - loss: 0.0013 - 20s/epoch - 3ms/step\n",
      "Epoch 13/100\n",
      "5883/5883 - 16s - loss: 0.0013 - 16s/epoch - 3ms/step\n",
      "Epoch 14/100\n",
      "5883/5883 - 16s - loss: 0.0013 - 16s/epoch - 3ms/step\n",
      "Epoch 15/100\n",
      "5883/5883 - 16s - loss: 0.0013 - 16s/epoch - 3ms/step\n",
      "Epoch 16/100\n",
      "5883/5883 - 18s - loss: 0.0013 - 18s/epoch - 3ms/step\n",
      "Epoch 17/100\n",
      "5883/5883 - 18s - loss: 0.0013 - 18s/epoch - 3ms/step\n",
      "Epoch 18/100\n",
      "5883/5883 - 18s - loss: 0.0012 - 18s/epoch - 3ms/step\n",
      "Epoch 19/100\n",
      "5883/5883 - 19s - loss: 0.0012 - 19s/epoch - 3ms/step\n",
      "Epoch 20/100\n",
      "5883/5883 - 18s - loss: 0.0012 - 18s/epoch - 3ms/step\n",
      "Epoch 21/100\n",
      "5883/5883 - 17s - loss: 0.0012 - 17s/epoch - 3ms/step\n",
      "Epoch 22/100\n",
      "5883/5883 - 16s - loss: 0.0012 - 16s/epoch - 3ms/step\n",
      "Epoch 23/100\n",
      "5883/5883 - 21s - loss: 0.0012 - 21s/epoch - 4ms/step\n",
      "Epoch 24/100\n",
      "5883/5883 - 18s - loss: 0.0012 - 18s/epoch - 3ms/step\n",
      "Epoch 25/100\n",
      "5883/5883 - 15s - loss: 0.0012 - 15s/epoch - 3ms/step\n",
      "Epoch 26/100\n",
      "5883/5883 - 16s - loss: 0.0012 - 16s/epoch - 3ms/step\n",
      "Epoch 27/100\n",
      "5883/5883 - 16s - loss: 0.0012 - 16s/epoch - 3ms/step\n",
      "Epoch 28/100\n",
      "5883/5883 - 16s - loss: 0.0012 - 16s/epoch - 3ms/step\n",
      "Epoch 29/100\n",
      "5883/5883 - 16s - loss: 0.0012 - 16s/epoch - 3ms/step\n",
      "Epoch 30/100\n",
      "5883/5883 - 16s - loss: 0.0012 - 16s/epoch - 3ms/step\n",
      "Epoch 31/100\n",
      "5883/5883 - 16s - loss: 0.0012 - 16s/epoch - 3ms/step\n",
      "Epoch 32/100\n",
      "5883/5883 - 16s - loss: 0.0012 - 16s/epoch - 3ms/step\n",
      "Epoch 33/100\n",
      "5883/5883 - 16s - loss: 0.0012 - 16s/epoch - 3ms/step\n",
      "Epoch 34/100\n",
      "5883/5883 - 16s - loss: 0.0012 - 16s/epoch - 3ms/step\n",
      "Epoch 35/100\n",
      "5883/5883 - 17s - loss: 0.0012 - 17s/epoch - 3ms/step\n",
      "Epoch 36/100\n",
      "5883/5883 - 16s - loss: 0.0012 - 16s/epoch - 3ms/step\n",
      "Epoch 37/100\n",
      "5883/5883 - 16s - loss: 0.0012 - 16s/epoch - 3ms/step\n",
      "Epoch 38/100\n",
      "5883/5883 - 16s - loss: 0.0012 - 16s/epoch - 3ms/step\n",
      "Epoch 39/100\n",
      "5883/5883 - 17s - loss: 0.0012 - 17s/epoch - 3ms/step\n",
      "Epoch 40/100\n",
      "5883/5883 - 16s - loss: 0.0012 - 16s/epoch - 3ms/step\n",
      "Epoch 41/100\n",
      "5883/5883 - 18s - loss: 0.0012 - 18s/epoch - 3ms/step\n",
      "Epoch 42/100\n",
      "5883/5883 - 18s - loss: 0.0012 - 18s/epoch - 3ms/step\n",
      "Epoch 43/100\n",
      "5883/5883 - 16s - loss: 0.0011 - 16s/epoch - 3ms/step\n",
      "Epoch 44/100\n",
      "5883/5883 - 17s - loss: 0.0011 - 17s/epoch - 3ms/step\n",
      "Epoch 45/100\n",
      "5883/5883 - 16s - loss: 0.0011 - 16s/epoch - 3ms/step\n",
      "Epoch 46/100\n",
      "5883/5883 - 16s - loss: 0.0011 - 16s/epoch - 3ms/step\n",
      "Epoch 47/100\n",
      "5883/5883 - 18s - loss: 0.0011 - 18s/epoch - 3ms/step\n",
      "Epoch 48/100\n",
      "5883/5883 - 18s - loss: 0.0011 - 18s/epoch - 3ms/step\n",
      "Epoch 49/100\n",
      "5883/5883 - 18s - loss: 0.0011 - 18s/epoch - 3ms/step\n",
      "Epoch 50/100\n",
      "5883/5883 - 18s - loss: 0.0011 - 18s/epoch - 3ms/step\n",
      "Epoch 51/100\n",
      "5883/5883 - 18s - loss: 0.0011 - 18s/epoch - 3ms/step\n",
      "Epoch 52/100\n",
      "5883/5883 - 17s - loss: 0.0011 - 17s/epoch - 3ms/step\n",
      "Epoch 53/100\n",
      "5883/5883 - 18s - loss: 0.0011 - 18s/epoch - 3ms/step\n",
      "Epoch 54/100\n",
      "5883/5883 - 17s - loss: 0.0011 - 17s/epoch - 3ms/step\n",
      "Epoch 55/100\n",
      "5883/5883 - 16s - loss: 0.0011 - 16s/epoch - 3ms/step\n",
      "Epoch 56/100\n",
      "5883/5883 - 16s - loss: 0.0011 - 16s/epoch - 3ms/step\n",
      "Epoch 57/100\n",
      "5883/5883 - 15s - loss: 0.0011 - 15s/epoch - 3ms/step\n",
      "Epoch 58/100\n",
      "5883/5883 - 15s - loss: 0.0011 - 15s/epoch - 3ms/step\n",
      "Epoch 59/100\n",
      "5883/5883 - 15s - loss: 0.0011 - 15s/epoch - 3ms/step\n",
      "Epoch 60/100\n",
      "5883/5883 - 15s - loss: 0.0011 - 15s/epoch - 3ms/step\n",
      "Epoch 61/100\n",
      "5883/5883 - 15s - loss: 0.0011 - 15s/epoch - 3ms/step\n",
      "Epoch 62/100\n",
      "5883/5883 - 15s - loss: 0.0011 - 15s/epoch - 3ms/step\n",
      "Epoch 63/100\n",
      "5883/5883 - 15s - loss: 0.0011 - 15s/epoch - 3ms/step\n",
      "Epoch 64/100\n",
      "5883/5883 - 15s - loss: 0.0011 - 15s/epoch - 3ms/step\n",
      "Epoch 65/100\n",
      "5883/5883 - 15s - loss: 0.0011 - 15s/epoch - 3ms/step\n",
      "Epoch 66/100\n",
      "5883/5883 - 15s - loss: 0.0011 - 15s/epoch - 3ms/step\n",
      "Epoch 67/100\n",
      "5883/5883 - 15s - loss: 0.0011 - 15s/epoch - 3ms/step\n",
      "Epoch 68/100\n",
      "5883/5883 - 15s - loss: 0.0011 - 15s/epoch - 3ms/step\n",
      "Epoch 69/100\n",
      "5883/5883 - 15s - loss: 0.0011 - 15s/epoch - 3ms/step\n",
      "Epoch 70/100\n",
      "5883/5883 - 15s - loss: 0.0011 - 15s/epoch - 3ms/step\n",
      "Epoch 71/100\n",
      "5883/5883 - 15s - loss: 0.0011 - 15s/epoch - 3ms/step\n",
      "Epoch 72/100\n",
      "5883/5883 - 16s - loss: 0.0011 - 16s/epoch - 3ms/step\n",
      "Epoch 73/100\n",
      "5883/5883 - 15s - loss: 0.0011 - 15s/epoch - 3ms/step\n",
      "Epoch 74/100\n",
      "5883/5883 - 15s - loss: 0.0011 - 15s/epoch - 3ms/step\n",
      "Epoch 75/100\n",
      "5883/5883 - 10s - loss: 0.0011 - 10s/epoch - 2ms/step\n",
      "Epoch 76/100\n",
      "5883/5883 - 10s - loss: 0.0011 - 10s/epoch - 2ms/step\n",
      "Epoch 77/100\n",
      "5883/5883 - 10s - loss: 0.0011 - 10s/epoch - 2ms/step\n",
      "Epoch 78/100\n",
      "5883/5883 - 10s - loss: 0.0011 - 10s/epoch - 2ms/step\n",
      "Epoch 79/100\n",
      "5883/5883 - 10s - loss: 0.0011 - 10s/epoch - 2ms/step\n",
      "Epoch 80/100\n",
      "5883/5883 - 10s - loss: 0.0011 - 10s/epoch - 2ms/step\n",
      "Epoch 81/100\n",
      "5883/5883 - 10s - loss: 0.0011 - 10s/epoch - 2ms/step\n",
      "Epoch 82/100\n",
      "5883/5883 - 10s - loss: 0.0011 - 10s/epoch - 2ms/step\n",
      "Epoch 83/100\n",
      "5883/5883 - 10s - loss: 0.0011 - 10s/epoch - 2ms/step\n",
      "Epoch 84/100\n",
      "5883/5883 - 10s - loss: 0.0011 - 10s/epoch - 2ms/step\n",
      "Epoch 85/100\n",
      "5883/5883 - 10s - loss: 0.0011 - 10s/epoch - 2ms/step\n",
      "Epoch 86/100\n",
      "5883/5883 - 10s - loss: 0.0011 - 10s/epoch - 2ms/step\n",
      "Epoch 87/100\n",
      "5883/5883 - 10s - loss: 0.0011 - 10s/epoch - 2ms/step\n",
      "Epoch 88/100\n",
      "5883/5883 - 10s - loss: 0.0011 - 10s/epoch - 2ms/step\n",
      "Epoch 89/100\n",
      "5883/5883 - 10s - loss: 0.0011 - 10s/epoch - 2ms/step\n",
      "Epoch 90/100\n",
      "5883/5883 - 10s - loss: 0.0011 - 10s/epoch - 2ms/step\n",
      "Epoch 91/100\n",
      "5883/5883 - 10s - loss: 0.0011 - 10s/epoch - 2ms/step\n",
      "Epoch 92/100\n",
      "5883/5883 - 10s - loss: 0.0011 - 10s/epoch - 2ms/step\n",
      "Epoch 93/100\n",
      "5883/5883 - 10s - loss: 0.0011 - 10s/epoch - 2ms/step\n",
      "Epoch 94/100\n",
      "5883/5883 - 10s - loss: 0.0011 - 10s/epoch - 2ms/step\n",
      "Epoch 95/100\n",
      "5883/5883 - 10s - loss: 0.0011 - 10s/epoch - 2ms/step\n",
      "Epoch 96/100\n",
      "5883/5883 - 10s - loss: 0.0011 - 10s/epoch - 2ms/step\n",
      "Epoch 97/100\n",
      "5883/5883 - 10s - loss: 0.0011 - 10s/epoch - 2ms/step\n",
      "Epoch 98/100\n",
      "5883/5883 - 10s - loss: 0.0011 - 10s/epoch - 2ms/step\n",
      "Epoch 99/100\n",
      "5883/5883 - 10s - loss: 0.0011 - 10s/epoch - 2ms/step\n",
      "Epoch 100/100\n",
      "5883/5883 - 10s - loss: 0.0011 - 10s/epoch - 2ms/step\n"
     ]
    },
    {
     "data": {
      "text/plain": [
       "<keras.src.callbacks.History at 0x7f3eb60363d0>"
      ]
     },
     "execution_count": 16,
     "metadata": {},
     "output_type": "execute_result"
    }
   ],
   "source": [
    "# create and fit the LSTM network\n",
    "model_window = Sequential()\n",
    "model_window.add(LSTM(4, input_shape=(1, look_back)))\n",
    "model_window.add(Dense(1))\n",
    "model_window.compile(loss='mean_squared_error', optimizer='adam')\n",
    "model_window.fit(trainX, trainY, epochs=100, batch_size=1, verbose=2)"
   ]
  },
  {
   "cell_type": "code",
   "execution_count": 17,
   "metadata": {},
   "outputs": [
    {
     "name": "stdout",
     "output_type": "stream",
     "text": [
      "184/184 [==============================] - 1s 1ms/step\n",
      "91/91 [==============================] - 0s 1ms/step\n"
     ]
    }
   ],
   "source": [
    "# make predictions\n",
    "trainPredict = model_window.predict(trainX)\n",
    "testPredict = model_window.predict(testX)"
   ]
  },
  {
   "cell_type": "code",
   "execution_count": 18,
   "metadata": {},
   "outputs": [],
   "source": [
    "# invert predictions\n",
    "trainPredict = scaler.inverse_transform(trainPredict)\n",
    "trainY = scaler.inverse_transform([trainY])\n",
    "testPredict = scaler.inverse_transform(testPredict)\n",
    "testY = scaler.inverse_transform([testY])"
   ]
  },
  {
   "cell_type": "code",
   "execution_count": 19,
   "metadata": {},
   "outputs": [
    {
     "name": "stdout",
     "output_type": "stream",
     "text": [
      "Train Score: 198960.63 RMSE\n",
      "Test Score: 277932.84 RMSE\n"
     ]
    }
   ],
   "source": [
    "# calculate root mean squared error\n",
    "trainScore = np.sqrt(mean_squared_error(trainY[0], trainPredict[:,0]))\n",
    "print('Train Score: %.2f RMSE' % (trainScore))\n",
    "testScore = np.sqrt(mean_squared_error(testY[0], testPredict[:,0]))\n",
    "print('Test Score: %.2f RMSE' % (testScore))"
   ]
  },
  {
   "cell_type": "code",
   "execution_count": 20,
   "metadata": {},
   "outputs": [],
   "source": [
    "# shift train predictions for plotting\n",
    "trainPredictPlot = np.empty_like(dataset)\n",
    "trainPredictPlot[:, :] = np.nan\n",
    "trainPredictPlot[look_back:len(trainPredict)+look_back, :] = trainPredict"
   ]
  },
  {
   "cell_type": "code",
   "execution_count": 21,
   "metadata": {},
   "outputs": [],
   "source": [
    "# shift test predictions for plotting\n",
    "testPredictPlot = np.empty_like(dataset)\n",
    "testPredictPlot[:, :] = np.nan\n",
    "testPredictPlot[len(trainPredict)+(look_back*2)+1:len(dataset)-1, :] = testPredict"
   ]
  },
  {
   "cell_type": "code",
   "execution_count": 22,
   "metadata": {},
   "outputs": [
    {
     "data": {
      "image/png": "[encoded data removed]",
      "text/plain": [
       "<Figure size 432x288 with 1 Axes>"
      ]
     },
     "metadata": {
      "needs_background": "light"
     },
     "output_type": "display_data"
    }
   ],
   "source": [
    "# plot baseline and predictions\n",
    "plt.plot(scaler.inverse_transform(dataset))\n",
    "plt.plot(trainPredictPlot)\n",
    "plt.plot(testPredictPlot)\n",
    "plt.show()"
   ]
  }
 ],
 "metadata": {
  "kernelspec": {
   "display_name": "usr",
   "language": "python",
   "name": "python3"
  },
  "language_info": {
   "codemirror_mode": {
    "name": "ipython",
    "version": 3
   },
   "file_extension": ".py",
   "mimetype": "text/x-python",
   "name": "python",
   "nbconvert_exporter": "python",
   "pygments_lexer": "ipython3",
   "version": "3.8.10"
  }
 },
 "nbformat": 4,
 "nbformat_minor": 2
}
