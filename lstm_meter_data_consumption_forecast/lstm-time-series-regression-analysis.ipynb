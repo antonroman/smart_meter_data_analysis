{
 "cells": [
  {
   "cell_type": "markdown",
   "metadata": {},
   "source": [
    "# Smart meter Time-series data analysis using LSTM\n",
    "\n",
    "Based on the great article of Jason Brownlee PhD: [Time Series Prediction with LSTM Recurrent Neural Networks in Python with Keras](https://machinelearningmastery.com/time-series-prediction-lstm-recurrent-neural-networks-python-keras/?utm_source=drip&utm_medium=email&utm_campaign=MLM+Newsletter+December+20%2C+2024&utm_content=Deploy+Machine+Learning+Models+with+Streamlit+%E2%80%A2+7+Machine+Learning+Projects+For+Beginners)\n",
    "\n",
    "## Definition of data\n",
    "\n",
    "We are going to use S02 files (hourly data). The columns of the CSV are as follows:\n",
    "\n",
    "1. _date_ Date in format dd/mm/yyyy\n",
    "\n",
    "2. _time_: time in format hh:mm:ss\n",
    "\n",
    "3. _global_active_power_: household global minute-averaged active power (in KWh)\n",
    "\n",
    "4. _global_reactive_power_: household global minute-averaged reactive power (in KWh)\n",
    "\n",
    "5. _voltage_: minute-averaged voltage (in volt)\n",
    "\n",
    "6. _global_intensity_: household global minute-averaged current intensity (in ampere)"
   ]
  },
  {
   "cell_type": "markdown",
   "metadata": {},
   "source": [
    "## Power consumption regression using simple LSTM"
   ]
  },
  {
   "cell_type": "code",
   "execution_count": 77,
   "metadata": {},
   "outputs": [],
   "source": [
    "# Let`s import all packages that we may need:\n",
    "\n",
    "import sys \n",
    "import numpy as np # linear algebra\n",
    "from scipy.stats import randint\n",
    "import pandas as pd # data processing, CSV file I/O (e.g. pd.read_csv), data manipulation as in SQL\n",
    "import matplotlib.pyplot as plt # this is used for the plot the graph \n",
    "import seaborn as sns # used for plot interactive graph. \n",
    "from sklearn.model_selection import train_test_split # to split the data into two parts\n",
    "from sklearn.preprocessing import StandardScaler # for normalization\n",
    "from sklearn.preprocessing import MinMaxScaler\n",
    "from sklearn.pipeline import Pipeline # pipeline making\n",
    "from sklearn.model_selection import cross_val_score\n",
    "from sklearn.feature_selection import SelectFromModel\n",
    "from sklearn import metrics # for the check the error and accuracy of the model\n",
    "from sklearn.metrics import mean_squared_error,r2_score\n",
    "\n",
    "## for Deep-learing:\n",
    "import tensorflow as tf\n",
    "from tensorflow.keras.models import Sequential\n",
    "from tensorflow.keras.layers import Dense\n",
    "from tensorflow.keras.layers import LSTM\n",
    "from sklearn.preprocessing import MinMaxScaler\n",
    "from sklearn.metrics import mean_squared_error\n",
    "\n",
    "\n",
    "# fix random seed for reproducibility\n",
    "tf.random.set_seed(20)\n",
    "\n",
    "# load the dataset\n",
    "dataframe = pd.read_csv('/home/antonroman/src/smart_meter_data_analysis/data_processing/aggregated_reactive/agg_values_S02_100.csv', usecols=[1], engine='python')\n",
    "\n"
   ]
  },
  {
   "cell_type": "markdown",
   "metadata": {},
   "source": [
    "In order to make a valid simulation we need to remove outliers to get more accurate predictions and also, allow a correct visualization of the data."
   ]
  },
  {
   "cell_type": "code",
   "execution_count": 78,
   "metadata": {},
   "outputs": [
    {
     "name": "stdout",
     "output_type": "stream",
     "text": [
      "               R1    z_score\n",
      "264  1.000207e+09  66.258136\n",
      "313  1.000640e+09  66.286867\n",
      "               R1\n",
      "0       60894.000\n",
      "1     1058979.159\n",
      "2     1039399.871\n",
      "3     1014893.270\n",
      "4      999049.244\n",
      "...           ...\n",
      "8785  1150728.264\n",
      "8786  1127267.496\n",
      "8787  1127007.644\n",
      "8788  1069735.342\n",
      "8789   465998.956\n",
      "\n",
      "[8788 rows x 1 columns]\n"
     ]
    },
    {
     "data": {
      "text/plain": [
       "[<matplotlib.lines.Line2D at 0x7f5ffa71b850>]"
      ]
     },
     "execution_count": 78,
     "metadata": {},
     "output_type": "execute_result"
    },
    {
     "data": {
      "image/png": "[encoded data removed]",
      "text/plain": [
       "<Figure size 432x288 with 1 Axes>"
      ]
     },
     "metadata": {
      "needs_background": "light"
     },
     "output_type": "display_data"
    }
   ],
   "source": [
    "\n",
    "# create histogram\n",
    "#dataframe.boxplot()\n",
    "\n",
    "#print(dataset)\n",
    "#plt.plot(dataset)\n",
    "\n",
    "#dataframe.info()\n",
    "#filtered_df = dataframe[dataframe[\"R1\"] > 10000000]\n",
    "#print(filtered_df)\n",
    "\n",
    "from scipy import stats\n",
    "dataframe['z_score']=stats.zscore(dataframe['R1'])\n",
    "\n",
    "# manual inspection of outliers\n",
    "filtered_df = dataframe[dataframe[\"R1\"] > 10000000]\n",
    "print(filtered_df)\n",
    "\n",
    "# manual inspection of outliers after z_score removal\n",
    "dataframe = dataframe[dataframe['z_score'].abs()<=2]\n",
    "dataframe = dataframe.drop(columns='z_score')\n",
    "print(dataframe)\n",
    "\n",
    "dataset = dataframe.values\n",
    "dataset = dataset.astype('float32')\n",
    "plt.plot(dataset)"
   ]
  },
  {
   "cell_type": "markdown",
   "metadata": {},
   "source": [
    "Data needs to be normalized to make sure the LSTM algortihm runs correctly. "
   ]
  },
  {
   "cell_type": "code",
   "execution_count": 79,
   "metadata": {},
   "outputs": [
    {
     "data": {
      "text/plain": [
       "[<matplotlib.lines.Line2D at 0x7f5ffa4c9520>]"
      ]
     },
     "execution_count": 79,
     "metadata": {},
     "output_type": "execute_result"
    },
    {
     "data": {
      "image/png": "[encoded data removed]",
      "text/plain": [
       "<Figure size 432x288 with 1 Axes>"
      ]
     },
     "metadata": {
      "needs_background": "light"
     },
     "output_type": "display_data"
    }
   ],
   "source": [
    "\n",
    "# normalize the dataset\n",
    "scaler = MinMaxScaler(feature_range=(0, 1))\n",
    "dataset = scaler.fit_transform(dataset)\n",
    "plt.plot(dataset)\n"
   ]
  },
  {
   "cell_type": "markdown",
   "metadata": {},
   "source": [
    "With time series data, the sequence of values is important. A simple method that you can use is to split the ordered dataset into train and test datasets. The code below calculates the index of the split point and separates the data into the training datasets, with 67% of the observations used to train the model, leaving the remaining 33% for testing the model"
   ]
  },
  {
   "cell_type": "code",
   "execution_count": 96,
   "metadata": {},
   "outputs": [
    {
     "name": "stdout",
     "output_type": "stream",
     "text": [
      "5887 2901\n"
     ]
    }
   ],
   "source": [
    "# split into train and test sets\n",
    "train_size = int(len(dataset) * 0.67)\n",
    "test_size = len(dataset) - train_size\n",
    "train, test = dataset[0:train_size,:], dataset[train_size:len(dataset),:]\n",
    "print(len(train), len(test))"
   ]
  },
  {
   "cell_type": "code",
   "execution_count": 94,
   "metadata": {},
   "outputs": [
    {
     "name": "stdout",
     "output_type": "stream",
     "text": [
      "[[  60894.  ]\n",
      " [1058979.1 ]\n",
      " [1039399.9 ]\n",
      " ...\n",
      " [1127007.6 ]\n",
      " [1069735.4 ]\n",
      " [ 465998.94]]\n"
     ]
    },
    {
     "data": {
      "text/plain": [
       "[<matplotlib.lines.Line2D at 0x7f5ffa24ea60>]"
      ]
     },
     "execution_count": 94,
     "metadata": {},
     "output_type": "execute_result"
    },
    {
     "data": {
      "image/png": "[encoded data removed]",
      "text/plain": [
       "<Figure size 432x288 with 1 Axes>"
      ]
     },
     "metadata": {
      "needs_background": "light"
     },
     "output_type": "display_data"
    }
   ],
   "source": [
    "print(scaler.inverse_transform(dataset))\n",
    "plt.plot(scaler.inverse_transform(dataset))"
   ]
  },
  {
   "cell_type": "markdown",
   "metadata": {},
   "source": [
    "__---------------------------------------------------------------------------------------------------------------------------------------------------------------------__\n",
    "\n",
    "__Until this point, the data processing is common to basic LSTM, LSTM using the Window Method, LSTM for Regression with Time Steps and LSTM with Memory Between Batches__\n",
    "\n",
    "__------------------------------------------------------------------------------------------------------------------------__\n",
    "\n",
    "This will create a dataset where X is the power consumed at a given time (t), and Y is the power consumed at the next time (t + 1)."
   ]
  },
  {
   "cell_type": "code",
   "execution_count": 95,
   "metadata": {},
   "outputs": [],
   "source": [
    "\n",
    "# convert an array of values into a dataset matrix\n",
    "def create_dataset(dataset, look_back=1):\n",
    "\tdataX, dataY = [], []\n",
    "\tfor i in range(len(dataset)-look_back-1):\n",
    "\t\ta = dataset[i:(i+look_back), 0]\n",
    "\t\tdataX.append(a)\n",
    "\t\tdataY.append(dataset[i + look_back, 0])\n",
    "\treturn np.array(dataX), np.array(dataY)\n",
    "\n",
    "# reshape into X=t and Y=t+1\n",
    "look_back = 1\n",
    "trainX, trainY = create_dataset(train, look_back)\n",
    "testX, testY = create_dataset(test, look_back)\n"
   ]
  },
  {
   "cell_type": "markdown",
   "metadata": {},
   "source": [
    "The LSTM network expects the input data (X) to be provided with a specific array structure in the form of [samples, time steps, features].\n",
    "\n",
    "Currently, the data is in the form of [samples, features], and you are framing the problem as one time step for each sample. You can transform the prepared train and test input data into the expected structure using `numpy.reshape()` as follows:"
   ]
  },
  {
   "cell_type": "code",
   "execution_count": 83,
   "metadata": {},
   "outputs": [],
   "source": [
    "\n",
    "# reshape input to be [samples, time steps, features]\n",
    "trainX = np.reshape(trainX, (trainX.shape[0], 1, trainX.shape[1]))\n",
    "testX = np.reshape(testX, (testX.shape[0], 1, testX.shape[1]))"
   ]
  },
  {
   "cell_type": "markdown",
   "metadata": {},
   "source": [
    "The network has a visible layer with 1 input, a hidden layer with 4 LSTM blocks or neurons, and an output layer that makes a single value prediction. The default sigmoid activation function is used for the LSTM blocks. The network is trained for 100 epochs, and a batch size of 1 is used."
   ]
  },
  {
   "cell_type": "code",
   "execution_count": 47,
   "metadata": {},
   "outputs": [
    {
     "name": "stdout",
     "output_type": "stream",
     "text": [
      "Epoch 1/100\n",
      "5885/5885 - 18s - loss: 0.0018 - 18s/epoch - 3ms/step\n",
      "Epoch 2/100\n",
      "5885/5885 - 21s - loss: 0.0016 - 21s/epoch - 4ms/step\n",
      "Epoch 3/100\n",
      "5885/5885 - 18s - loss: 0.0016 - 18s/epoch - 3ms/step\n",
      "Epoch 4/100\n",
      "5885/5885 - 18s - loss: 0.0016 - 18s/epoch - 3ms/step\n",
      "Epoch 5/100\n",
      "5885/5885 - 18s - loss: 0.0016 - 18s/epoch - 3ms/step\n",
      "Epoch 6/100\n",
      "5885/5885 - 18s - loss: 0.0016 - 18s/epoch - 3ms/step\n",
      "Epoch 7/100\n",
      "5885/5885 - 19s - loss: 0.0016 - 19s/epoch - 3ms/step\n",
      "Epoch 8/100\n",
      "5885/5885 - 19s - loss: 0.0016 - 19s/epoch - 3ms/step\n",
      "Epoch 9/100\n",
      "5885/5885 - 18s - loss: 0.0016 - 18s/epoch - 3ms/step\n",
      "Epoch 10/100\n",
      "5885/5885 - 19s - loss: 0.0016 - 19s/epoch - 3ms/step\n",
      "Epoch 11/100\n",
      "5885/5885 - 18s - loss: 0.0016 - 18s/epoch - 3ms/step\n",
      "Epoch 12/100\n",
      "5885/5885 - 18s - loss: 0.0016 - 18s/epoch - 3ms/step\n",
      "Epoch 13/100\n",
      "5885/5885 - 19s - loss: 0.0015 - 19s/epoch - 3ms/step\n",
      "Epoch 14/100\n",
      "5885/5885 - 19s - loss: 0.0016 - 19s/epoch - 3ms/step\n",
      "Epoch 15/100\n",
      "5885/5885 - 18s - loss: 0.0015 - 18s/epoch - 3ms/step\n",
      "Epoch 16/100\n",
      "5885/5885 - 18s - loss: 0.0015 - 18s/epoch - 3ms/step\n",
      "Epoch 17/100\n",
      "5885/5885 - 18s - loss: 0.0015 - 18s/epoch - 3ms/step\n",
      "Epoch 18/100\n",
      "5885/5885 - 18s - loss: 0.0015 - 18s/epoch - 3ms/step\n",
      "Epoch 19/100\n",
      "5885/5885 - 12s - loss: 0.0015 - 12s/epoch - 2ms/step\n",
      "Epoch 20/100\n",
      "5885/5885 - 9s - loss: 0.0015 - 9s/epoch - 2ms/step\n",
      "Epoch 21/100\n",
      "5885/5885 - 9s - loss: 0.0015 - 9s/epoch - 2ms/step\n",
      "Epoch 22/100\n",
      "5885/5885 - 9s - loss: 0.0015 - 9s/epoch - 2ms/step\n",
      "Epoch 23/100\n",
      "5885/5885 - 10s - loss: 0.0015 - 10s/epoch - 2ms/step\n",
      "Epoch 24/100\n",
      "5885/5885 - 9s - loss: 0.0015 - 9s/epoch - 2ms/step\n",
      "Epoch 25/100\n",
      "5885/5885 - 9s - loss: 0.0015 - 9s/epoch - 2ms/step\n",
      "Epoch 26/100\n",
      "5885/5885 - 9s - loss: 0.0015 - 9s/epoch - 2ms/step\n",
      "Epoch 27/100\n",
      "5885/5885 - 9s - loss: 0.0015 - 9s/epoch - 2ms/step\n",
      "Epoch 28/100\n",
      "5885/5885 - 9s - loss: 0.0015 - 9s/epoch - 2ms/step\n",
      "Epoch 29/100\n",
      "5885/5885 - 9s - loss: 0.0015 - 9s/epoch - 2ms/step\n",
      "Epoch 30/100\n",
      "5885/5885 - 9s - loss: 0.0015 - 9s/epoch - 2ms/step\n",
      "Epoch 31/100\n",
      "5885/5885 - 9s - loss: 0.0015 - 9s/epoch - 2ms/step\n",
      "Epoch 32/100\n",
      "5885/5885 - 9s - loss: 0.0015 - 9s/epoch - 2ms/step\n",
      "Epoch 33/100\n",
      "5885/5885 - 9s - loss: 0.0015 - 9s/epoch - 2ms/step\n",
      "Epoch 34/100\n",
      "5885/5885 - 9s - loss: 0.0015 - 9s/epoch - 2ms/step\n",
      "Epoch 35/100\n",
      "5885/5885 - 9s - loss: 0.0015 - 9s/epoch - 2ms/step\n",
      "Epoch 36/100\n",
      "5885/5885 - 9s - loss: 0.0015 - 9s/epoch - 2ms/step\n",
      "Epoch 37/100\n",
      "5885/5885 - 9s - loss: 0.0015 - 9s/epoch - 2ms/step\n",
      "Epoch 38/100\n",
      "5885/5885 - 9s - loss: 0.0015 - 9s/epoch - 2ms/step\n",
      "Epoch 39/100\n",
      "5885/5885 - 9s - loss: 0.0015 - 9s/epoch - 2ms/step\n",
      "Epoch 40/100\n",
      "5885/5885 - 9s - loss: 0.0015 - 9s/epoch - 2ms/step\n",
      "Epoch 41/100\n",
      "5885/5885 - 9s - loss: 0.0015 - 9s/epoch - 2ms/step\n",
      "Epoch 42/100\n",
      "5885/5885 - 9s - loss: 0.0015 - 9s/epoch - 2ms/step\n",
      "Epoch 43/100\n",
      "5885/5885 - 9s - loss: 0.0015 - 9s/epoch - 2ms/step\n",
      "Epoch 44/100\n",
      "5885/5885 - 9s - loss: 0.0015 - 9s/epoch - 2ms/step\n",
      "Epoch 45/100\n",
      "5885/5885 - 9s - loss: 0.0015 - 9s/epoch - 2ms/step\n",
      "Epoch 46/100\n",
      "5885/5885 - 9s - loss: 0.0015 - 9s/epoch - 2ms/step\n",
      "Epoch 47/100\n",
      "5885/5885 - 9s - loss: 0.0015 - 9s/epoch - 2ms/step\n",
      "Epoch 48/100\n",
      "5885/5885 - 9s - loss: 0.0015 - 9s/epoch - 2ms/step\n",
      "Epoch 49/100\n",
      "5885/5885 - 9s - loss: 0.0015 - 9s/epoch - 2ms/step\n",
      "Epoch 50/100\n",
      "5885/5885 - 9s - loss: 0.0015 - 9s/epoch - 2ms/step\n",
      "Epoch 51/100\n",
      "5885/5885 - 9s - loss: 0.0015 - 9s/epoch - 2ms/step\n",
      "Epoch 52/100\n",
      "5885/5885 - 9s - loss: 0.0015 - 9s/epoch - 2ms/step\n",
      "Epoch 53/100\n",
      "5885/5885 - 9s - loss: 0.0015 - 9s/epoch - 2ms/step\n",
      "Epoch 54/100\n",
      "5885/5885 - 9s - loss: 0.0015 - 9s/epoch - 2ms/step\n",
      "Epoch 55/100\n",
      "5885/5885 - 9s - loss: 0.0015 - 9s/epoch - 2ms/step\n",
      "Epoch 56/100\n",
      "5885/5885 - 9s - loss: 0.0015 - 9s/epoch - 2ms/step\n",
      "Epoch 57/100\n",
      "5885/5885 - 9s - loss: 0.0015 - 9s/epoch - 2ms/step\n",
      "Epoch 58/100\n",
      "5885/5885 - 9s - loss: 0.0015 - 9s/epoch - 2ms/step\n",
      "Epoch 59/100\n",
      "5885/5885 - 9s - loss: 0.0015 - 9s/epoch - 2ms/step\n",
      "Epoch 60/100\n",
      "5885/5885 - 10s - loss: 0.0015 - 10s/epoch - 2ms/step\n",
      "Epoch 61/100\n",
      "5885/5885 - 10s - loss: 0.0015 - 10s/epoch - 2ms/step\n",
      "Epoch 62/100\n",
      "5885/5885 - 9s - loss: 0.0015 - 9s/epoch - 2ms/step\n",
      "Epoch 63/100\n",
      "5885/5885 - 9s - loss: 0.0015 - 9s/epoch - 2ms/step\n",
      "Epoch 64/100\n",
      "5885/5885 - 9s - loss: 0.0015 - 9s/epoch - 2ms/step\n",
      "Epoch 65/100\n",
      "5885/5885 - 9s - loss: 0.0015 - 9s/epoch - 2ms/step\n",
      "Epoch 66/100\n",
      "5885/5885 - 9s - loss: 0.0015 - 9s/epoch - 2ms/step\n",
      "Epoch 67/100\n",
      "5885/5885 - 9s - loss: 0.0015 - 9s/epoch - 2ms/step\n",
      "Epoch 68/100\n",
      "5885/5885 - 9s - loss: 0.0015 - 9s/epoch - 2ms/step\n",
      "Epoch 69/100\n",
      "5885/5885 - 9s - loss: 0.0015 - 9s/epoch - 2ms/step\n",
      "Epoch 70/100\n",
      "5885/5885 - 9s - loss: 0.0015 - 9s/epoch - 2ms/step\n",
      "Epoch 71/100\n",
      "5885/5885 - 9s - loss: 0.0015 - 9s/epoch - 2ms/step\n",
      "Epoch 72/100\n",
      "5885/5885 - 9s - loss: 0.0015 - 9s/epoch - 2ms/step\n",
      "Epoch 73/100\n",
      "5885/5885 - 9s - loss: 0.0015 - 9s/epoch - 2ms/step\n",
      "Epoch 74/100\n",
      "5885/5885 - 9s - loss: 0.0015 - 9s/epoch - 2ms/step\n",
      "Epoch 75/100\n",
      "5885/5885 - 9s - loss: 0.0015 - 9s/epoch - 2ms/step\n",
      "Epoch 76/100\n",
      "5885/5885 - 9s - loss: 0.0015 - 9s/epoch - 2ms/step\n",
      "Epoch 77/100\n",
      "5885/5885 - 9s - loss: 0.0015 - 9s/epoch - 2ms/step\n",
      "Epoch 78/100\n",
      "5885/5885 - 9s - loss: 0.0015 - 9s/epoch - 2ms/step\n",
      "Epoch 79/100\n",
      "5885/5885 - 9s - loss: 0.0015 - 9s/epoch - 2ms/step\n",
      "Epoch 80/100\n",
      "5885/5885 - 9s - loss: 0.0015 - 9s/epoch - 2ms/step\n",
      "Epoch 81/100\n",
      "5885/5885 - 9s - loss: 0.0015 - 9s/epoch - 2ms/step\n",
      "Epoch 82/100\n",
      "5885/5885 - 9s - loss: 0.0015 - 9s/epoch - 2ms/step\n",
      "Epoch 83/100\n",
      "5885/5885 - 9s - loss: 0.0015 - 9s/epoch - 2ms/step\n",
      "Epoch 84/100\n",
      "5885/5885 - 9s - loss: 0.0015 - 9s/epoch - 2ms/step\n",
      "Epoch 85/100\n",
      "5885/5885 - 9s - loss: 0.0015 - 9s/epoch - 2ms/step\n",
      "Epoch 86/100\n",
      "5885/5885 - 9s - loss: 0.0015 - 9s/epoch - 2ms/step\n",
      "Epoch 87/100\n",
      "5885/5885 - 9s - loss: 0.0015 - 9s/epoch - 2ms/step\n",
      "Epoch 88/100\n",
      "5885/5885 - 9s - loss: 0.0015 - 9s/epoch - 2ms/step\n",
      "Epoch 89/100\n",
      "5885/5885 - 9s - loss: 0.0015 - 9s/epoch - 2ms/step\n",
      "Epoch 90/100\n",
      "5885/5885 - 9s - loss: 0.0015 - 9s/epoch - 2ms/step\n",
      "Epoch 91/100\n",
      "5885/5885 - 9s - loss: 0.0015 - 9s/epoch - 2ms/step\n",
      "Epoch 92/100\n",
      "5885/5885 - 9s - loss: 0.0015 - 9s/epoch - 2ms/step\n",
      "Epoch 93/100\n",
      "5885/5885 - 9s - loss: 0.0015 - 9s/epoch - 2ms/step\n",
      "Epoch 94/100\n",
      "5885/5885 - 9s - loss: 0.0015 - 9s/epoch - 2ms/step\n",
      "Epoch 95/100\n",
      "5885/5885 - 9s - loss: 0.0015 - 9s/epoch - 2ms/step\n",
      "Epoch 96/100\n",
      "5885/5885 - 9s - loss: 0.0015 - 9s/epoch - 2ms/step\n",
      "Epoch 97/100\n",
      "5885/5885 - 9s - loss: 0.0015 - 9s/epoch - 2ms/step\n",
      "Epoch 98/100\n",
      "5885/5885 - 9s - loss: 0.0015 - 9s/epoch - 2ms/step\n",
      "Epoch 99/100\n",
      "5885/5885 - 9s - loss: 0.0015 - 9s/epoch - 2ms/step\n",
      "Epoch 100/100\n",
      "5885/5885 - 9s - loss: 0.0015 - 9s/epoch - 2ms/step\n"
     ]
    },
    {
     "data": {
      "text/plain": [
       "<keras.src.callbacks.History at 0x7f5ffa93ffa0>"
      ]
     },
     "execution_count": 47,
     "metadata": {},
     "output_type": "execute_result"
    }
   ],
   "source": [
    "# create and fit the LSTM network\n",
    "model = Sequential()\n",
    "model.add(LSTM(4, input_shape=(1, look_back)))\n",
    "model.add(Dense(1))\n",
    "model.compile(loss='mean_squared_error', optimizer='adam')\n",
    "model.fit(trainX, trainY, epochs=100, batch_size=1, verbose=2)"
   ]
  },
  {
   "cell_type": "markdown",
   "metadata": {},
   "source": [
    "Once the model is fit, you can estimate the performance of the model on the train and test datasets. This will give you a point of comparison for new models.\n",
    "\n",
    "Note that you will invert the predictions before calculating error scores to ensure that performance is reported in the same units as the original data (KWh per hour)."
   ]
  },
  {
   "cell_type": "code",
   "execution_count": 84,
   "metadata": {},
   "outputs": [
    {
     "name": "stdout",
     "output_type": "stream",
     "text": [
      "(5885, 1, 1)\n",
      "(2899, 1, 1)\n"
     ]
    }
   ],
   "source": [
    "print(trainX.shape)\n",
    "print(testX.shape)"
   ]
  },
  {
   "cell_type": "code",
   "execution_count": 85,
   "metadata": {},
   "outputs": [
    {
     "name": "stdout",
     "output_type": "stream",
     "text": [
      "184/184 [==============================] - 1s 2ms/step\n",
      "91/91 [==============================] - 0s 2ms/step\n"
     ]
    }
   ],
   "source": [
    "# make predictions\n",
    "trainPredict = model.predict(trainX)\n",
    "testPredict = model.predict(testX)\n"
   ]
  },
  {
   "cell_type": "code",
   "execution_count": 86,
   "metadata": {},
   "outputs": [
    {
     "name": "stdout",
     "output_type": "stream",
     "text": [
      "(5885, 1)\n",
      "(2899, 1)\n",
      "[[0.03644715]\n",
      " [0.16574913]\n",
      " [0.16364573]\n",
      " ...\n",
      " [0.06846925]\n",
      " [0.17030963]\n",
      " [0.16816613]]\n",
      "[[0.1630852 ]\n",
      " [0.1639973 ]\n",
      " [0.1639612 ]\n",
      " ...\n",
      " [0.17525722]\n",
      " [0.17288157]\n",
      " [0.17285505]]\n"
     ]
    }
   ],
   "source": [
    "print(trainPredict.shape)\n",
    "print(testPredict.shape)\n",
    "print(trainPredict)\n",
    "print(testPredict)\n"
   ]
  },
  {
   "cell_type": "code",
   "execution_count": 87,
   "metadata": {},
   "outputs": [
    {
     "name": "stdout",
     "output_type": "stream",
     "text": [
      "[[ 991423.25]\n",
      " [ 996968.  ]\n",
      " [ 996748.56]\n",
      " ...\n",
      " [1065418.9 ]\n",
      " [1050976.9 ]\n",
      " [1050815.6 ]]\n",
      "Train Score: 233555.15 RMSE\n",
      "Test Score: 298504.81 RMSE\n"
     ]
    }
   ],
   "source": [
    "# invert predictions\n",
    "trainPredict = scaler.inverse_transform(trainPredict)\n",
    "trainY = scaler.inverse_transform([trainY])\n",
    "testPredict = scaler.inverse_transform(testPredict)\n",
    "print(testPredict)\n",
    "testY = scaler.inverse_transform([testY])\n",
    "# calculate root mean squared error\n",
    "trainScore = np.sqrt(mean_squared_error(trainY[0], trainPredict[:,0]))\n",
    "print('Train Score: %.2f RMSE' % (trainScore))\n",
    "testScore = np.sqrt(mean_squared_error(testY[0], testPredict[:,0]))\n",
    "print('Test Score: %.2f RMSE' % (testScore))"
   ]
  },
  {
   "cell_type": "markdown",
   "metadata": {},
   "source": [
    "Finally, we can generate predictions using the model for both the train and test dataset to get a visual indication of the skill of the model.\n",
    "\n",
    "Because of how the dataset was prepared, you must shift the predictions so that they align on the x-axis with the original dataset. Once prepared, the data is plotted, showing the original dataset in blue, the predictions for the training dataset in green, and the predictions on the unseen test dataset in red."
   ]
  },
  {
   "cell_type": "code",
   "execution_count": null,
   "metadata": {},
   "outputs": [
    {
     "data": {
      "image/png": "[encoded data removed]",
      "text/plain": [
       "<Figure size 432x288 with 1 Axes>"
      ]
     },
     "metadata": {
      "needs_background": "light"
     },
     "output_type": "display_data"
    }
   ],
   "source": [
    "# shift train predictions for plotting\n",
    "trainPredictPlot = np.empty_like(dataset)\n",
    "trainPredictPlot[:, :] = np.nan\n",
    "trainPredictPlot[look_back:len(trainPredict)+look_back, :] = trainPredict\n",
    "# shift test predictions for plotting\n",
    "testPredictPlot = np.empty_like(dataset)\n",
    "testPredictPlot[:, :] = np.nan\n",
    "testPredictPlot[len(trainPredict)+(look_back*2)+1:len(dataset)-1, :] = testPredict\n",
    "# plot baseline and predictions\n",
    "plt.plot(scaler.inverse_transform(dataset), color='blue')\n",
    "plt.plot(trainPredictPlot, color='red')\n",
    "plt.plot(testPredictPlot, color='green')\n",
    "plt.show()"
   ]
  },
  {
   "cell_type": "markdown",
   "metadata": {},
   "source": [
    "## Power consumption regression with LSTM Using the Window Method"
   ]
  },
  {
   "cell_type": "code",
   "execution_count": 97,
   "metadata": {},
   "outputs": [],
   "source": [
    "# reshape into X=t and Y=t+1\n",
    "look_back = 3\n",
    "trainX, trainY = create_dataset(train, look_back)\n",
    "testX, testY = create_dataset(test, look_back)\n",
    "# reshape input to be [samples, time steps, features]\n",
    "trainX = np.reshape(trainX, (trainX.shape[0], 1, trainX.shape[1]))\n",
    "testX = np.reshape(testX, (testX.shape[0], 1, testX.shape[1]))"
   ]
  },
  {
   "cell_type": "code",
   "execution_count": 98,
   "metadata": {},
   "outputs": [
    {
     "name": "stdout",
     "output_type": "stream",
     "text": [
      "[[[0.01001651 0.17419791 0.17097719]]\n",
      "\n",
      " [[0.17419791 0.17097719 0.16694595]]\n",
      "\n",
      " [[0.17097719 0.16694595 0.16433966]]\n",
      "\n",
      " ...\n",
      "\n",
      " [[0.11870813 0.08296372 0.04772167]]\n",
      "\n",
      " [[0.08296372 0.04772167 0.18132181]]\n",
      "\n",
      " [[0.04772167 0.18132181 0.17794856]]]\n"
     ]
    }
   ],
   "source": [
    "print(trainX)"
   ]
  },
  {
   "cell_type": "code",
   "execution_count": 99,
   "metadata": {},
   "outputs": [
    {
     "name": "stdout",
     "output_type": "stream",
     "text": [
      "Epoch 1/100\n",
      "5883/5883 - 35s - loss: 0.0019 - 35s/epoch - 6ms/step\n",
      "Epoch 2/100\n",
      "5883/5883 - 28s - loss: 0.0015 - 28s/epoch - 5ms/step\n",
      "Epoch 3/100\n",
      "5883/5883 - 30s - loss: 0.0015 - 30s/epoch - 5ms/step\n",
      "Epoch 4/100\n",
      "5883/5883 - 31s - loss: 0.0014 - 31s/epoch - 5ms/step\n",
      "Epoch 5/100\n",
      "5883/5883 - 30s - loss: 0.0014 - 30s/epoch - 5ms/step\n",
      "Epoch 6/100\n",
      "5883/5883 - 25s - loss: 0.0014 - 25s/epoch - 4ms/step\n",
      "Epoch 7/100\n",
      "5883/5883 - 23s - loss: 0.0014 - 23s/epoch - 4ms/step\n",
      "Epoch 8/100\n",
      "5883/5883 - 29s - loss: 0.0014 - 29s/epoch - 5ms/step\n",
      "Epoch 9/100\n",
      "5883/5883 - 29s - loss: 0.0014 - 29s/epoch - 5ms/step\n",
      "Epoch 10/100\n",
      "5883/5883 - 29s - loss: 0.0013 - 29s/epoch - 5ms/step\n",
      "Epoch 11/100\n",
      "5883/5883 - 27s - loss: 0.0013 - 27s/epoch - 5ms/step\n",
      "Epoch 12/100\n",
      "5883/5883 - 27s - loss: 0.0013 - 27s/epoch - 5ms/step\n",
      "Epoch 13/100\n",
      "5883/5883 - 44s - loss: 0.0013 - 44s/epoch - 7ms/step\n",
      "Epoch 14/100\n",
      "5883/5883 - 31s - loss: 0.0013 - 31s/epoch - 5ms/step\n",
      "Epoch 15/100\n",
      "5883/5883 - 26s - loss: 0.0013 - 26s/epoch - 4ms/step\n",
      "Epoch 16/100\n",
      "5883/5883 - 23s - loss: 0.0013 - 23s/epoch - 4ms/step\n",
      "Epoch 17/100\n",
      "5883/5883 - 20s - loss: 0.0012 - 20s/epoch - 3ms/step\n",
      "Epoch 18/100\n",
      "5883/5883 - 16s - loss: 0.0012 - 16s/epoch - 3ms/step\n",
      "Epoch 19/100\n",
      "5883/5883 - 18s - loss: 0.0012 - 18s/epoch - 3ms/step\n",
      "Epoch 20/100\n",
      "5883/5883 - 18s - loss: 0.0012 - 18s/epoch - 3ms/step\n",
      "Epoch 21/100\n",
      "5883/5883 - 18s - loss: 0.0012 - 18s/epoch - 3ms/step\n",
      "Epoch 22/100\n",
      "5883/5883 - 18s - loss: 0.0012 - 18s/epoch - 3ms/step\n",
      "Epoch 23/100\n",
      "5883/5883 - 18s - loss: 0.0012 - 18s/epoch - 3ms/step\n",
      "Epoch 24/100\n",
      "5883/5883 - 19s - loss: 0.0012 - 19s/epoch - 3ms/step\n",
      "Epoch 25/100\n",
      "5883/5883 - 18s - loss: 0.0012 - 18s/epoch - 3ms/step\n",
      "Epoch 26/100\n",
      "5883/5883 - 18s - loss: 0.0012 - 18s/epoch - 3ms/step\n",
      "Epoch 27/100\n",
      "5883/5883 - 19s - loss: 0.0012 - 19s/epoch - 3ms/step\n",
      "Epoch 28/100\n",
      "5883/5883 - 19s - loss: 0.0012 - 19s/epoch - 3ms/step\n",
      "Epoch 29/100\n",
      "5883/5883 - 19s - loss: 0.0012 - 19s/epoch - 3ms/step\n",
      "Epoch 30/100\n",
      "5883/5883 - 19s - loss: 0.0012 - 19s/epoch - 3ms/step\n",
      "Epoch 31/100\n",
      "5883/5883 - 19s - loss: 0.0012 - 19s/epoch - 3ms/step\n",
      "Epoch 32/100\n",
      "5883/5883 - 19s - loss: 0.0012 - 19s/epoch - 3ms/step\n",
      "Epoch 33/100\n",
      "5883/5883 - 19s - loss: 0.0012 - 19s/epoch - 3ms/step\n",
      "Epoch 34/100\n",
      "5883/5883 - 19s - loss: 0.0012 - 19s/epoch - 3ms/step\n",
      "Epoch 35/100\n",
      "5883/5883 - 19s - loss: 0.0012 - 19s/epoch - 3ms/step\n",
      "Epoch 36/100\n",
      "5883/5883 - 19s - loss: 0.0012 - 19s/epoch - 3ms/step\n",
      "Epoch 37/100\n",
      "5883/5883 - 19s - loss: 0.0012 - 19s/epoch - 3ms/step\n",
      "Epoch 38/100\n",
      "5883/5883 - 19s - loss: 0.0012 - 19s/epoch - 3ms/step\n",
      "Epoch 39/100\n",
      "5883/5883 - 19s - loss: 0.0012 - 19s/epoch - 3ms/step\n",
      "Epoch 40/100\n",
      "5883/5883 - 19s - loss: 0.0012 - 19s/epoch - 3ms/step\n",
      "Epoch 41/100\n",
      "5883/5883 - 19s - loss: 0.0012 - 19s/epoch - 3ms/step\n",
      "Epoch 42/100\n",
      "5883/5883 - 19s - loss: 0.0012 - 19s/epoch - 3ms/step\n",
      "Epoch 43/100\n",
      "5883/5883 - 19s - loss: 0.0011 - 19s/epoch - 3ms/step\n",
      "Epoch 44/100\n",
      "5883/5883 - 13s - loss: 0.0011 - 13s/epoch - 2ms/step\n",
      "Epoch 45/100\n",
      "5883/5883 - 9s - loss: 0.0011 - 9s/epoch - 2ms/step\n",
      "Epoch 46/100\n",
      "5883/5883 - 9s - loss: 0.0011 - 9s/epoch - 2ms/step\n",
      "Epoch 47/100\n",
      "5883/5883 - 10s - loss: 0.0011 - 10s/epoch - 2ms/step\n",
      "Epoch 48/100\n",
      "5883/5883 - 9s - loss: 0.0011 - 9s/epoch - 2ms/step\n",
      "Epoch 49/100\n",
      "5883/5883 - 9s - loss: 0.0011 - 9s/epoch - 2ms/step\n",
      "Epoch 50/100\n",
      "5883/5883 - 10s - loss: 0.0011 - 10s/epoch - 2ms/step\n",
      "Epoch 51/100\n",
      "5883/5883 - 9s - loss: 0.0011 - 9s/epoch - 2ms/step\n",
      "Epoch 52/100\n",
      "5883/5883 - 10s - loss: 0.0011 - 10s/epoch - 2ms/step\n",
      "Epoch 53/100\n",
      "5883/5883 - 9s - loss: 0.0011 - 9s/epoch - 2ms/step\n",
      "Epoch 54/100\n",
      "5883/5883 - 9s - loss: 0.0011 - 9s/epoch - 2ms/step\n",
      "Epoch 55/100\n",
      "5883/5883 - 9s - loss: 0.0011 - 9s/epoch - 2ms/step\n",
      "Epoch 56/100\n",
      "5883/5883 - 9s - loss: 0.0011 - 9s/epoch - 2ms/step\n",
      "Epoch 57/100\n",
      "5883/5883 - 10s - loss: 0.0011 - 10s/epoch - 2ms/step\n",
      "Epoch 58/100\n",
      "5883/5883 - 9s - loss: 0.0011 - 9s/epoch - 2ms/step\n",
      "Epoch 59/100\n",
      "5883/5883 - 9s - loss: 0.0011 - 9s/epoch - 2ms/step\n",
      "Epoch 60/100\n",
      "5883/5883 - 9s - loss: 0.0011 - 9s/epoch - 2ms/step\n",
      "Epoch 61/100\n",
      "5883/5883 - 9s - loss: 0.0011 - 9s/epoch - 2ms/step\n",
      "Epoch 62/100\n",
      "5883/5883 - 9s - loss: 0.0011 - 9s/epoch - 2ms/step\n",
      "Epoch 63/100\n",
      "5883/5883 - 10s - loss: 0.0011 - 10s/epoch - 2ms/step\n",
      "Epoch 64/100\n",
      "5883/5883 - 9s - loss: 0.0011 - 9s/epoch - 2ms/step\n",
      "Epoch 65/100\n",
      "5883/5883 - 9s - loss: 0.0011 - 9s/epoch - 2ms/step\n",
      "Epoch 66/100\n",
      "5883/5883 - 9s - loss: 0.0011 - 9s/epoch - 2ms/step\n",
      "Epoch 67/100\n",
      "5883/5883 - 9s - loss: 0.0011 - 9s/epoch - 2ms/step\n",
      "Epoch 68/100\n",
      "5883/5883 - 9s - loss: 0.0011 - 9s/epoch - 2ms/step\n",
      "Epoch 69/100\n",
      "5883/5883 - 10s - loss: 0.0011 - 10s/epoch - 2ms/step\n",
      "Epoch 70/100\n",
      "5883/5883 - 9s - loss: 0.0011 - 9s/epoch - 2ms/step\n",
      "Epoch 71/100\n",
      "5883/5883 - 10s - loss: 0.0011 - 10s/epoch - 2ms/step\n",
      "Epoch 72/100\n",
      "5883/5883 - 9s - loss: 0.0011 - 9s/epoch - 2ms/step\n",
      "Epoch 73/100\n",
      "5883/5883 - 9s - loss: 0.0011 - 9s/epoch - 2ms/step\n",
      "Epoch 74/100\n",
      "5883/5883 - 9s - loss: 0.0011 - 9s/epoch - 2ms/step\n",
      "Epoch 75/100\n",
      "5883/5883 - 9s - loss: 0.0011 - 9s/epoch - 2ms/step\n",
      "Epoch 76/100\n",
      "5883/5883 - 10s - loss: 0.0011 - 10s/epoch - 2ms/step\n",
      "Epoch 77/100\n",
      "5883/5883 - 9s - loss: 0.0011 - 9s/epoch - 2ms/step\n",
      "Epoch 78/100\n",
      "5883/5883 - 9s - loss: 0.0011 - 9s/epoch - 2ms/step\n",
      "Epoch 79/100\n",
      "5883/5883 - 9s - loss: 0.0011 - 9s/epoch - 2ms/step\n",
      "Epoch 80/100\n",
      "5883/5883 - 9s - loss: 0.0011 - 9s/epoch - 2ms/step\n",
      "Epoch 81/100\n",
      "5883/5883 - 9s - loss: 0.0011 - 9s/epoch - 2ms/step\n",
      "Epoch 82/100\n",
      "5883/5883 - 9s - loss: 0.0011 - 9s/epoch - 2ms/step\n",
      "Epoch 83/100\n",
      "5883/5883 - 9s - loss: 0.0011 - 9s/epoch - 2ms/step\n",
      "Epoch 84/100\n",
      "5883/5883 - 10s - loss: 0.0011 - 10s/epoch - 2ms/step\n",
      "Epoch 85/100\n",
      "5883/5883 - 9s - loss: 0.0011 - 9s/epoch - 2ms/step\n",
      "Epoch 86/100\n",
      "5883/5883 - 9s - loss: 0.0011 - 9s/epoch - 2ms/step\n",
      "Epoch 87/100\n",
      "5883/5883 - 10s - loss: 0.0011 - 10s/epoch - 2ms/step\n",
      "Epoch 88/100\n",
      "5883/5883 - 9s - loss: 0.0011 - 9s/epoch - 2ms/step\n",
      "Epoch 89/100\n",
      "5883/5883 - 9s - loss: 0.0011 - 9s/epoch - 2ms/step\n",
      "Epoch 90/100\n",
      "5883/5883 - 9s - loss: 0.0011 - 9s/epoch - 2ms/step\n",
      "Epoch 91/100\n",
      "5883/5883 - 10s - loss: 0.0011 - 10s/epoch - 2ms/step\n",
      "Epoch 92/100\n",
      "5883/5883 - 9s - loss: 0.0011 - 9s/epoch - 2ms/step\n",
      "Epoch 93/100\n",
      "5883/5883 - 9s - loss: 0.0011 - 9s/epoch - 2ms/step\n",
      "Epoch 94/100\n",
      "5883/5883 - 9s - loss: 0.0011 - 9s/epoch - 2ms/step\n",
      "Epoch 95/100\n",
      "5883/5883 - 9s - loss: 0.0011 - 9s/epoch - 2ms/step\n",
      "Epoch 96/100\n",
      "5883/5883 - 9s - loss: 0.0011 - 9s/epoch - 2ms/step\n",
      "Epoch 97/100\n",
      "5883/5883 - 10s - loss: 0.0011 - 10s/epoch - 2ms/step\n",
      "Epoch 98/100\n",
      "5883/5883 - 9s - loss: 0.0011 - 9s/epoch - 2ms/step\n",
      "Epoch 99/100\n",
      "5883/5883 - 10s - loss: 0.0011 - 10s/epoch - 2ms/step\n",
      "Epoch 100/100\n",
      "5883/5883 - 9s - loss: 0.0011 - 9s/epoch - 2ms/step\n"
     ]
    },
    {
     "data": {
      "text/plain": [
       "<keras.src.callbacks.History at 0x7f5ffa1d1af0>"
      ]
     },
     "execution_count": 99,
     "metadata": {},
     "output_type": "execute_result"
    }
   ],
   "source": [
    "# create and fit the LSTM network\n",
    "model_window = Sequential()\n",
    "model_window.add(LSTM(4, input_shape=(1, look_back)))\n",
    "model_window.add(Dense(1))\n",
    "model_window.compile(loss='mean_squared_error', optimizer='adam')\n",
    "model_window.fit(trainX, trainY, epochs=100, batch_size=1, verbose=2)"
   ]
  },
  {
   "cell_type": "code",
   "execution_count": 100,
   "metadata": {},
   "outputs": [
    {
     "name": "stdout",
     "output_type": "stream",
     "text": [
      "184/184 [==============================] - 1s 2ms/step\n",
      "91/91 [==============================] - 0s 2ms/step\n"
     ]
    }
   ],
   "source": [
    "# make predictions\n",
    "trainPredict = model_window.predict(trainX)\n",
    "testPredict = model_window.predict(testX)"
   ]
  },
  {
   "cell_type": "code",
   "execution_count": 101,
   "metadata": {},
   "outputs": [],
   "source": [
    "# invert predictions\n",
    "trainPredict = scaler.inverse_transform(trainPredict)\n",
    "trainY = scaler.inverse_transform([trainY])\n",
    "testPredict = scaler.inverse_transform(testPredict)\n",
    "testY = scaler.inverse_transform([testY])"
   ]
  },
  {
   "cell_type": "code",
   "execution_count": 102,
   "metadata": {},
   "outputs": [
    {
     "name": "stdout",
     "output_type": "stream",
     "text": [
      "Train Score: 202441.81 RMSE\n",
      "Test Score: 277589.77 RMSE\n"
     ]
    }
   ],
   "source": [
    "# calculate root mean squared error\n",
    "trainScore = np.sqrt(mean_squared_error(trainY[0], trainPredict[:,0]))\n",
    "print('Train Score: %.2f RMSE' % (trainScore))\n",
    "testScore = np.sqrt(mean_squared_error(testY[0], testPredict[:,0]))\n",
    "print('Test Score: %.2f RMSE' % (testScore))"
   ]
  },
  {
   "cell_type": "code",
   "execution_count": 103,
   "metadata": {},
   "outputs": [],
   "source": [
    "# shift train predictions for plotting\n",
    "trainPredictPlot = np.empty_like(dataset)\n",
    "trainPredictPlot[:, :] = np.nan\n",
    "trainPredictPlot[look_back:len(trainPredict)+look_back, :] = trainPredict"
   ]
  },
  {
   "cell_type": "code",
   "execution_count": 104,
   "metadata": {},
   "outputs": [],
   "source": [
    "# shift test predictions for plotting\n",
    "testPredictPlot = np.empty_like(dataset)\n",
    "testPredictPlot[:, :] = np.nan\n",
    "testPredictPlot[len(trainPredict)+(look_back*2)+1:len(dataset)-1, :] = testPredict"
   ]
  },
  {
   "cell_type": "code",
   "execution_count": 105,
   "metadata": {},
   "outputs": [
    {
     "data": {
      "image/png": "[encoded data removed]",
      "text/plain": [
       "<Figure size 432x288 with 1 Axes>"
      ]
     },
     "metadata": {
      "needs_background": "light"
     },
     "output_type": "display_data"
    }
   ],
   "source": [
    "# plot baseline and predictions\n",
    "plt.plot(scaler.inverse_transform(dataset))\n",
    "plt.plot(trainPredictPlot)\n",
    "plt.plot(testPredictPlot)\n",
    "plt.show()"
   ]
  }
 ],
 "metadata": {
  "kernelspec": {
   "display_name": "usr",
   "language": "python",
   "name": "python3"
  },
  "language_info": {
   "codemirror_mode": {
    "name": "ipython",
    "version": 3
   },
   "file_extension": ".py",
   "mimetype": "text/x-python",
   "name": "python",
   "nbconvert_exporter": "python",
   "pygments_lexer": "ipython3",
   "version": "3.8.10"
  }
 },
 "nbformat": 4,
 "nbformat_minor": 2
}
