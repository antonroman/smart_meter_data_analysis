{
 "cells": [
  {
   "cell_type": "markdown",
   "metadata": {},
   "source": [
    "# Smart meter Time-series data analysis using LSTM\n",
    "\n",
    "Based on the great article of Jason Brownlee PhD: [Time Series Prediction with LSTM Recurrent Neural Networks in Python with Keras](https://machinelearningmastery.com/time-series-prediction-lstm-recurrent-neural-networks-python-keras/?utm_source=drip&utm_medium=email&utm_campaign=MLM+Newsletter+December+20%2C+2024&utm_content=Deploy+Machine+Learning+Models+with+Streamlit+%E2%80%A2+7+Machine+Learning+Projects+For+Beginners)\n",
    "\n",
    "## Definition of data\n",
    "\n",
    "We are going to use S02 files (hourly data). The columns of the CSV are as follows:\n",
    "\n",
    "1. _date_ Date in format dd/mm/yyyy\n",
    "\n",
    "2. _time_: time in format hh:mm:ss\n",
    "\n",
    "3. _global_active_power_: household global minute-averaged active power (in KWh)\n",
    "\n",
    "4. _global_reactive_power_: household global minute-averaged reactive power (in KWh)\n",
    "\n",
    "5. _voltage_: minute-averaged voltage (in volt)\n",
    "\n",
    "6. _global_intensity_: household global minute-averaged current intensity (in ampere)"
   ]
  },
  {
   "cell_type": "markdown",
   "metadata": {},
   "source": [
    "## Power consumption regression using simple LSTM"
   ]
  },
  {
   "cell_type": "code",
   "execution_count": 1,
   "metadata": {},
   "outputs": [
    {
     "name": "stderr",
     "output_type": "stream",
     "text": [
      "/usr/local/lib/python3.8/dist-packages/pandas/core/computation/expressions.py:20: UserWarning: Pandas requires version '2.7.3' or newer of 'numexpr' (version '2.7.1' currently installed).\n",
      "  from pandas.core.computation.check import NUMEXPR_INSTALLED\n"
     ]
    }
   ],
   "source": [
    "# Let`s import all packages that we may need:\n",
    "\n",
    "import sys \n",
    "import numpy as np # linear algebra\n",
    "from scipy.stats import randint\n",
    "import pandas as pd # data processing, CSV file I/O (e.g. pd.read_csv), data manipulation as in SQL\n",
    "import matplotlib.pyplot as plt # this is used for the plot the graph \n",
    "import seaborn as sns # used for plot interactive graph. \n",
    "from sklearn.model_selection import train_test_split # to split the data into two parts\n",
    "from sklearn.preprocessing import StandardScaler # for normalization\n",
    "from sklearn.preprocessing import MinMaxScaler\n",
    "from sklearn.pipeline import Pipeline # pipeline making\n",
    "from sklearn.model_selection import cross_val_score\n",
    "from sklearn.feature_selection import SelectFromModel\n",
    "from sklearn import metrics # for the check the error and accuracy of the model\n",
    "from sklearn.metrics import mean_squared_error,r2_score\n",
    "\n",
    "## for Deep-learing:\n",
    "import tensorflow as tf\n",
    "from tensorflow.keras.models import Sequential\n",
    "from tensorflow.keras.layers import Dense\n",
    "from tensorflow.keras.layers import LSTM\n",
    "from sklearn.preprocessing import MinMaxScaler\n",
    "from sklearn.metrics import mean_squared_error\n",
    "\n",
    "\n",
    "# fix random seed for reproducibility\n",
    "tf.random.set_seed(20)\n",
    "\n",
    "# load the dataset\n",
    "dataframe = pd.read_csv('/home/antonroman/src/smart_meter_data_analysis/data_processing/aggregated_reactive/agg_values_S02_100.csv', usecols=[1], engine='python')\n",
    "\n"
   ]
  },
  {
   "cell_type": "markdown",
   "metadata": {},
   "source": [
    "In order to make a valid simulation we need to remove outliers to get more accurate predictions and also, allow a correct visualization of the data."
   ]
  },
  {
   "cell_type": "code",
   "execution_count": 2,
   "metadata": {},
   "outputs": [
    {
     "name": "stdout",
     "output_type": "stream",
     "text": [
      "               R1    z_score\n",
      "264  1.000207e+09  66.258136\n",
      "313  1.000640e+09  66.286867\n",
      "               R1\n",
      "0       60894.000\n",
      "1     1058979.159\n",
      "2     1039399.871\n",
      "3     1014893.270\n",
      "4      999049.244\n",
      "...           ...\n",
      "8785  1150728.264\n",
      "8786  1127267.496\n",
      "8787  1127007.644\n",
      "8788  1069735.342\n",
      "8789   465998.956\n",
      "\n",
      "[8788 rows x 1 columns]\n"
     ]
    },
    {
     "data": {
      "text/plain": [
       "[<matplotlib.lines.Line2D at 0x7ff66f3d40a0>]"
      ]
     },
     "execution_count": 2,
     "metadata": {},
     "output_type": "execute_result"
    },
    {
     "data": {
      "image/png": "[encoded data removed]",
      "text/plain": [
       "<Figure size 432x288 with 1 Axes>"
      ]
     },
     "metadata": {
      "needs_background": "light"
     },
     "output_type": "display_data"
    }
   ],
   "source": [
    "\n",
    "from scipy import stats\n",
    "dataframe['z_score']=stats.zscore(dataframe['R1'])\n",
    "\n",
    "# manual inspection of outliers\n",
    "filtered_df = dataframe[dataframe[\"R1\"] > 10000000]\n",
    "print(filtered_df)\n",
    "\n",
    "# manual inspection of outliers after z_score removal\n",
    "dataframe = dataframe[dataframe['z_score'].abs()<=2]\n",
    "dataframe = dataframe.drop(columns='z_score')\n",
    "print(dataframe)\n",
    "\n",
    "dataset = dataframe.values\n",
    "dataset = dataset.astype('float32')\n",
    "plt.plot(dataset)"
   ]
  },
  {
   "cell_type": "markdown",
   "metadata": {},
   "source": [
    "Data needs to be normalized to make sure the LSTM algortihm runs correctly. "
   ]
  },
  {
   "cell_type": "code",
   "execution_count": 3,
   "metadata": {},
   "outputs": [
    {
     "data": {
      "text/plain": [
       "[<matplotlib.lines.Line2D at 0x7ff66d260700>]"
      ]
     },
     "execution_count": 3,
     "metadata": {},
     "output_type": "execute_result"
    },
    {
     "data": {
      "image/png": "[encoded data removed]",
      "text/plain": [
       "<Figure size 432x288 with 1 Axes>"
      ]
     },
     "metadata": {
      "needs_background": "light"
     },
     "output_type": "display_data"
    }
   ],
   "source": [
    "\n",
    "# normalize the dataset\n",
    "scaler = MinMaxScaler(feature_range=(0, 1))\n",
    "dataset = scaler.fit_transform(dataset)\n",
    "plt.plot(dataset)\n"
   ]
  },
  {
   "cell_type": "markdown",
   "metadata": {},
   "source": [
    "With time series data, the sequence of values is important. A simple method that you can use is to split the ordered dataset into train and test datasets. The code below calculates the index of the split point and separates the data into the training datasets, with 67% of the observations used to train the model, leaving the remaining 33% for testing the model"
   ]
  },
  {
   "cell_type": "code",
   "execution_count": 4,
   "metadata": {},
   "outputs": [
    {
     "name": "stdout",
     "output_type": "stream",
     "text": [
      "5887 2901\n"
     ]
    }
   ],
   "source": [
    "# split into train and test sets\n",
    "train_size = int(len(dataset) * 0.67)\n",
    "test_size = len(dataset) - train_size\n",
    "train, test = dataset[0:train_size,:], dataset[train_size:len(dataset),:]\n",
    "print(len(train), len(test))"
   ]
  },
  {
   "cell_type": "code",
   "execution_count": 5,
   "metadata": {},
   "outputs": [
    {
     "name": "stdout",
     "output_type": "stream",
     "text": [
      "[[  60894.  ]\n",
      " [1058979.1 ]\n",
      " [1039399.9 ]\n",
      " ...\n",
      " [1127007.6 ]\n",
      " [1069735.4 ]\n",
      " [ 465998.94]]\n"
     ]
    },
    {
     "data": {
      "text/plain": [
       "[<matplotlib.lines.Line2D at 0x7ff66d1cefa0>]"
      ]
     },
     "execution_count": 5,
     "metadata": {},
     "output_type": "execute_result"
    },
    {
     "data": {
      "image/png": "[encoded data removed]",
      "text/plain": [
       "<Figure size 432x288 with 1 Axes>"
      ]
     },
     "metadata": {
      "needs_background": "light"
     },
     "output_type": "display_data"
    }
   ],
   "source": [
    "print(scaler.inverse_transform(dataset))\n",
    "plt.plot(scaler.inverse_transform(dataset))"
   ]
  },
  {
   "cell_type": "markdown",
   "metadata": {},
   "source": [
    "\n",
    "This will create a dataset where X is the power consumed at a given time (t), and Y is the power consumed at the next time (t + 1)."
   ]
  },
  {
   "cell_type": "code",
   "execution_count": 6,
   "metadata": {},
   "outputs": [],
   "source": [
    "\n",
    "# convert an array of values into a dataset matrix\n",
    "def create_dataset(dataset, look_back=1):\n",
    "\tdataX, dataY = [], []\n",
    "\tfor i in range(len(dataset)-look_back-1):\n",
    "\t\ta = dataset[i:(i+look_back), 0]\n",
    "\t\tdataX.append(a)\n",
    "\t\tdataY.append(dataset[i + look_back, 0])\n",
    "\treturn np.array(dataX), np.array(dataY)\n",
    "\n",
    "# reshape into X=t and Y=t+1\n",
    "look_back = 3\n",
    "trainX, trainY = create_dataset(train, look_back)\n",
    "testX, testY = create_dataset(test, look_back)"
   ]
  },
  {
   "cell_type": "markdown",
   "metadata": {},
   "source": [
    "The LSTM network expects the input data (X) to be provided with a specific array structure in the form of [samples, time steps, features].\n",
    "\n",
    "Currently, the data is in the form of [samples, features], and you are framing the problem as one time step for each sample. You can transform the prepared train and test input data into the expected structure using `numpy.reshape()` as follows:"
   ]
  },
  {
   "cell_type": "code",
   "execution_count": 7,
   "metadata": {},
   "outputs": [],
   "source": [
    "# reshape input to be [samples, time steps, features]\n",
    "trainX = np.reshape(trainX, (trainX.shape[0], trainX.shape[1], 1))\n",
    "testX = np.reshape(testX, (testX.shape[0], testX.shape[1], 1))"
   ]
  },
  {
   "cell_type": "markdown",
   "metadata": {},
   "source": [
    "The network has a visible layer with 1 input, a hidden layer with 4 LSTM blocks or neurons, and an output layer that makes a single value prediction. The default sigmoid activation function is used for the LSTM blocks. The network is trained for 100 epochs, and a batch size of 1 is used."
   ]
  },
  {
   "cell_type": "code",
   "execution_count": 8,
   "metadata": {},
   "outputs": [
    {
     "name": "stdout",
     "output_type": "stream",
     "text": [
      "5883/5883 - 55s - loss: 0.0015 - 55s/epoch - 9ms/step\n",
      "5883/5883 - 51s - loss: 0.0013 - 51s/epoch - 9ms/step\n",
      "5883/5883 - 42s - loss: 0.0013 - 42s/epoch - 7ms/step\n",
      "5883/5883 - 39s - loss: 0.0012 - 39s/epoch - 7ms/step\n",
      "5883/5883 - 32s - loss: 0.0012 - 32s/epoch - 5ms/step\n",
      "5883/5883 - 26s - loss: 0.0012 - 26s/epoch - 4ms/step\n",
      "5883/5883 - 27s - loss: 0.0011 - 27s/epoch - 5ms/step\n",
      "5883/5883 - 25s - loss: 0.0011 - 25s/epoch - 4ms/step\n",
      "5883/5883 - 24s - loss: 0.0012 - 24s/epoch - 4ms/step\n",
      "5883/5883 - 24s - loss: 0.0012 - 24s/epoch - 4ms/step\n",
      "5883/5883 - 23s - loss: 0.0012 - 23s/epoch - 4ms/step\n",
      "5883/5883 - 31s - loss: 0.0011 - 31s/epoch - 5ms/step\n",
      "5883/5883 - 30s - loss: 0.0011 - 30s/epoch - 5ms/step\n",
      "5883/5883 - 24s - loss: 0.0011 - 24s/epoch - 4ms/step\n",
      "5883/5883 - 27s - loss: 0.0011 - 27s/epoch - 5ms/step\n",
      "5883/5883 - 24s - loss: 0.0010 - 24s/epoch - 4ms/step\n",
      "5883/5883 - 24s - loss: 0.0010 - 24s/epoch - 4ms/step\n",
      "5883/5883 - 23s - loss: 0.0010 - 23s/epoch - 4ms/step\n",
      "5883/5883 - 24s - loss: 0.0010 - 24s/epoch - 4ms/step\n",
      "5883/5883 - 23s - loss: 0.0010 - 23s/epoch - 4ms/step\n",
      "5883/5883 - 23s - loss: 9.9848e-04 - 23s/epoch - 4ms/step\n",
      "5883/5883 - 25s - loss: 9.9645e-04 - 25s/epoch - 4ms/step\n",
      "5883/5883 - 23s - loss: 9.9342e-04 - 23s/epoch - 4ms/step\n",
      "5883/5883 - 24s - loss: 9.9019e-04 - 24s/epoch - 4ms/step\n",
      "5883/5883 - 23s - loss: 9.8721e-04 - 23s/epoch - 4ms/step\n",
      "5883/5883 - 23s - loss: 9.8435e-04 - 23s/epoch - 4ms/step\n",
      "5883/5883 - 23s - loss: 9.8155e-04 - 23s/epoch - 4ms/step\n",
      "5883/5883 - 22s - loss: 9.7879e-04 - 22s/epoch - 4ms/step\n",
      "5883/5883 - 11s - loss: 9.7604e-04 - 11s/epoch - 2ms/step\n",
      "5883/5883 - 11s - loss: 9.7328e-04 - 11s/epoch - 2ms/step\n",
      "5883/5883 - 11s - loss: 9.7046e-04 - 11s/epoch - 2ms/step\n",
      "5883/5883 - 11s - loss: 9.6754e-04 - 11s/epoch - 2ms/step\n",
      "5883/5883 - 11s - loss: 9.6451e-04 - 11s/epoch - 2ms/step\n",
      "5883/5883 - 11s - loss: 9.6143e-04 - 11s/epoch - 2ms/step\n",
      "5883/5883 - 11s - loss: 9.5840e-04 - 11s/epoch - 2ms/step\n",
      "5883/5883 - 11s - loss: 9.5553e-04 - 11s/epoch - 2ms/step\n",
      "5883/5883 - 11s - loss: 9.5294e-04 - 11s/epoch - 2ms/step\n",
      "5883/5883 - 11s - loss: 9.5066e-04 - 11s/epoch - 2ms/step\n",
      "5883/5883 - 11s - loss: 9.4870e-04 - 11s/epoch - 2ms/step\n",
      "5883/5883 - 11s - loss: 9.4702e-04 - 11s/epoch - 2ms/step\n",
      "5883/5883 - 11s - loss: 9.4557e-04 - 11s/epoch - 2ms/step\n",
      "5883/5883 - 11s - loss: 9.4431e-04 - 11s/epoch - 2ms/step\n",
      "5883/5883 - 11s - loss: 9.4318e-04 - 11s/epoch - 2ms/step\n",
      "5883/5883 - 11s - loss: 9.4214e-04 - 11s/epoch - 2ms/step\n",
      "5883/5883 - 11s - loss: 9.4117e-04 - 11s/epoch - 2ms/step\n",
      "5883/5883 - 11s - loss: 9.4024e-04 - 11s/epoch - 2ms/step\n",
      "5883/5883 - 11s - loss: 9.3935e-04 - 11s/epoch - 2ms/step\n",
      "5883/5883 - 11s - loss: 9.3852e-04 - 11s/epoch - 2ms/step\n",
      "5883/5883 - 11s - loss: 9.3776e-04 - 11s/epoch - 2ms/step\n",
      "5883/5883 - 11s - loss: 9.3709e-04 - 11s/epoch - 2ms/step\n",
      "5883/5883 - 11s - loss: 9.3648e-04 - 11s/epoch - 2ms/step\n",
      "5883/5883 - 11s - loss: 9.3593e-04 - 11s/epoch - 2ms/step\n",
      "5883/5883 - 11s - loss: 9.3542e-04 - 11s/epoch - 2ms/step\n",
      "5883/5883 - 11s - loss: 9.3500e-04 - 11s/epoch - 2ms/step\n",
      "5883/5883 - 11s - loss: 9.3468e-04 - 11s/epoch - 2ms/step\n",
      "5883/5883 - 11s - loss: 9.3445e-04 - 11s/epoch - 2ms/step\n",
      "5883/5883 - 11s - loss: 9.3425e-04 - 11s/epoch - 2ms/step\n",
      "5883/5883 - 11s - loss: 9.3403e-04 - 11s/epoch - 2ms/step\n",
      "5883/5883 - 11s - loss: 9.3373e-04 - 11s/epoch - 2ms/step\n",
      "5883/5883 - 11s - loss: 9.3332e-04 - 11s/epoch - 2ms/step\n",
      "5883/5883 - 11s - loss: 9.3277e-04 - 11s/epoch - 2ms/step\n",
      "5883/5883 - 11s - loss: 9.3208e-04 - 11s/epoch - 2ms/step\n",
      "5883/5883 - 11s - loss: 9.3129e-04 - 11s/epoch - 2ms/step\n",
      "5883/5883 - 11s - loss: 9.3042e-04 - 11s/epoch - 2ms/step\n",
      "5883/5883 - 11s - loss: 9.2942e-04 - 11s/epoch - 2ms/step\n",
      "5883/5883 - 11s - loss: 9.2817e-04 - 11s/epoch - 2ms/step\n",
      "5883/5883 - 11s - loss: 9.2657e-04 - 11s/epoch - 2ms/step\n",
      "5883/5883 - 11s - loss: 9.2459e-04 - 11s/epoch - 2ms/step\n",
      "5883/5883 - 11s - loss: 9.2229e-04 - 11s/epoch - 2ms/step\n",
      "5883/5883 - 11s - loss: 9.1987e-04 - 11s/epoch - 2ms/step\n",
      "5883/5883 - 11s - loss: 9.1778e-04 - 11s/epoch - 2ms/step\n",
      "5883/5883 - 11s - loss: 9.1631e-04 - 11s/epoch - 2ms/step\n",
      "5883/5883 - 11s - loss: 9.1407e-04 - 11s/epoch - 2ms/step\n",
      "5883/5883 - 11s - loss: 9.1430e-04 - 11s/epoch - 2ms/step\n",
      "5883/5883 - 11s - loss: 9.4759e-04 - 11s/epoch - 2ms/step\n",
      "5883/5883 - 11s - loss: 9.3383e-04 - 11s/epoch - 2ms/step\n",
      "5883/5883 - 11s - loss: 9.3406e-04 - 11s/epoch - 2ms/step\n",
      "5883/5883 - 11s - loss: 9.3518e-04 - 11s/epoch - 2ms/step\n",
      "5883/5883 - 17s - loss: 9.3022e-04 - 17s/epoch - 3ms/step\n",
      "5883/5883 - 27s - loss: 9.2905e-04 - 27s/epoch - 5ms/step\n",
      "5883/5883 - 27s - loss: 9.3382e-04 - 27s/epoch - 5ms/step\n",
      "5883/5883 - 28s - loss: 9.2604e-04 - 28s/epoch - 5ms/step\n",
      "5883/5883 - 24s - loss: 9.2358e-04 - 24s/epoch - 4ms/step\n",
      "5883/5883 - 24s - loss: 0.0011 - 24s/epoch - 4ms/step\n",
      "5883/5883 - 26s - loss: 9.3163e-04 - 26s/epoch - 4ms/step\n",
      "5883/5883 - 27s - loss: 9.2822e-04 - 27s/epoch - 5ms/step\n",
      "5883/5883 - 24s - loss: 9.2946e-04 - 24s/epoch - 4ms/step\n",
      "5883/5883 - 24s - loss: 9.2835e-04 - 24s/epoch - 4ms/step\n",
      "5883/5883 - 23s - loss: 9.2724e-04 - 23s/epoch - 4ms/step\n",
      "5883/5883 - 25s - loss: 9.2509e-04 - 25s/epoch - 4ms/step\n",
      "5883/5883 - 21s - loss: 9.2261e-04 - 21s/epoch - 4ms/step\n",
      "5883/5883 - 18s - loss: 9.2082e-04 - 18s/epoch - 3ms/step\n",
      "5883/5883 - 18s - loss: 9.1977e-04 - 18s/epoch - 3ms/step\n",
      "5883/5883 - 18s - loss: 9.1859e-04 - 18s/epoch - 3ms/step\n",
      "5883/5883 - 18s - loss: 9.1699e-04 - 18s/epoch - 3ms/step\n",
      "5883/5883 - 18s - loss: 9.1559e-04 - 18s/epoch - 3ms/step\n",
      "5883/5883 - 17s - loss: 9.1493e-04 - 17s/epoch - 3ms/step\n",
      "5883/5883 - 21s - loss: 9.1485e-04 - 21s/epoch - 4ms/step\n",
      "5883/5883 - 16s - loss: 9.1540e-04 - 16s/epoch - 3ms/step\n",
      "5883/5883 - 18s - loss: 9.1331e-04 - 18s/epoch - 3ms/step\n"
     ]
    }
   ],
   "source": [
    "# create and fit the LSTM network\n",
    "batch_size = 1\n",
    "model = Sequential()\n",
    "model.add(LSTM(4, batch_input_shape=(batch_size, look_back, 1), stateful=True))\n",
    "model.add(Dense(1))\n",
    "model.compile(loss='mean_squared_error', optimizer='adam')\n",
    "for i in range(100):\n",
    "\tmodel.fit(trainX, trainY, epochs=1, batch_size=batch_size, verbose=2, shuffle=False)\n",
    "\tmodel.reset_states()"
   ]
  },
  {
   "cell_type": "markdown",
   "metadata": {},
   "source": [
    "Once the model is fit, you can estimate the performance of the model on the train and test datasets. This will give you a point of comparison for new models.\n",
    "\n",
    "Note that you will invert the predictions before calculating error scores to ensure that performance is reported in the same units as the original data (KWh per hour)."
   ]
  },
  {
   "cell_type": "code",
   "execution_count": 9,
   "metadata": {},
   "outputs": [
    {
     "name": "stdout",
     "output_type": "stream",
     "text": [
      "(5883, 3, 1)\n",
      "(2897, 3, 1)\n"
     ]
    }
   ],
   "source": [
    "print(trainX.shape)\n",
    "print(testX.shape)"
   ]
  },
  {
   "cell_type": "code",
   "execution_count": 10,
   "metadata": {},
   "outputs": [
    {
     "name": "stdout",
     "output_type": "stream",
     "text": [
      "5883/5883 [==============================] - 14s 2ms/step\n",
      "2897/2897 [==============================] - 6s 2ms/step\n"
     ]
    }
   ],
   "source": [
    "# make predictions\n",
    "trainPredict = model.predict(trainX, batch_size=batch_size)\n",
    "model.reset_states()\n",
    "testPredict = model.predict(testX, batch_size=batch_size)"
   ]
  },
  {
   "cell_type": "code",
   "execution_count": 11,
   "metadata": {},
   "outputs": [
    {
     "name": "stdout",
     "output_type": "stream",
     "text": [
      "(5883, 1)\n",
      "(2897, 1)\n"
     ]
    }
   ],
   "source": [
    "print(trainPredict.shape)\n",
    "print(testPredict.shape)"
   ]
  },
  {
   "cell_type": "code",
   "execution_count": 12,
   "metadata": {},
   "outputs": [
    {
     "name": "stdout",
     "output_type": "stream",
     "text": [
      "Train Score: 234269.14 RMSE\n",
      "Test Score: 287236.57 RMSE\n"
     ]
    }
   ],
   "source": [
    "# invert predictions\n",
    "trainPredict = scaler.inverse_transform(trainPredict)\n",
    "trainY = scaler.inverse_transform([trainY])\n",
    "testPredict = scaler.inverse_transform(testPredict)\n",
    "testY = scaler.inverse_transform([testY])\n",
    "# calculate root mean squared error\n",
    "trainScore = np.sqrt(mean_squared_error(trainY[0], trainPredict[:,0]))\n",
    "print('Train Score: %.2f RMSE' % (trainScore))\n",
    "testScore = np.sqrt(mean_squared_error(testY[0], testPredict[:,0]))\n",
    "print('Test Score: %.2f RMSE' % (testScore))"
   ]
  },
  {
   "cell_type": "markdown",
   "metadata": {},
   "source": [
    "Finally, we can generate predictions using the model for both the train and test dataset to get a visual indication of the skill of the model.\n",
    "\n",
    "Because of how the dataset was prepared, you must shift the predictions so that they align on the x-axis with the original dataset. Once prepared, the data is plotted, showing the original dataset in blue, the predictions for the training dataset in green, and the predictions on the unseen test dataset in red."
   ]
  },
  {
   "cell_type": "code",
   "execution_count": 13,
   "metadata": {},
   "outputs": [
    {
     "data": {
      "image/png": "[encoded data removed]",
      "text/plain": [
       "<Figure size 432x288 with 1 Axes>"
      ]
     },
     "metadata": {
      "needs_background": "light"
     },
     "output_type": "display_data"
    }
   ],
   "source": [
    "# shift train predictions for plotting\n",
    "trainPredictPlot = np.empty_like(dataset)\n",
    "trainPredictPlot[:, :] = np.nan\n",
    "trainPredictPlot[look_back:len(trainPredict)+look_back, :] = trainPredict\n",
    "# shift test predictions for plotting\n",
    "testPredictPlot = np.empty_like(dataset)\n",
    "testPredictPlot[:, :] = np.nan\n",
    "testPredictPlot[len(trainPredict)+(look_back*2)+1:len(dataset)-1, :] = testPredict\n",
    "# plot baseline and predictions\n",
    "plt.plot(scaler.inverse_transform(dataset), color='yellow')\n",
    "plt.plot(trainPredictPlot, color='red')\n",
    "plt.plot(testPredictPlot, color='green')\n",
    "plt.show()"
   ]
  }
 ],
 "metadata": {
  "kernelspec": {
   "display_name": "usr",
   "language": "python",
   "name": "python3"
  },
  "language_info": {
   "codemirror_mode": {
    "name": "ipython",
    "version": 3
   },
   "file_extension": ".py",
   "mimetype": "text/x-python",
   "name": "python",
   "nbconvert_exporter": "python",
   "pygments_lexer": "ipython3",
   "version": "3.8.10"
  }
 },
 "nbformat": 4,
 "nbformat_minor": 2
}
